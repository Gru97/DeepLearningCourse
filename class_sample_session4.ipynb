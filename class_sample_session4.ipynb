{
  "nbformat": 4,
  "nbformat_minor": 0,
  "metadata": {
    "colab": {
      "provenance": [],
      "authorship_tag": "ABX9TyOL0OHIoQoT1XPRHcGFufGz",
      "include_colab_link": true
    },
    "kernelspec": {
      "name": "python3",
      "display_name": "Python 3"
    },
    "language_info": {
      "name": "python"
    }
  },
  "cells": [
    {
      "cell_type": "markdown",
      "metadata": {
        "id": "view-in-github",
        "colab_type": "text"
      },
      "source": [
        "<a href=\"https://colab.research.google.com/github/Gru97/DeepLearningCourse/blob/main/class_sample_session4.ipynb\" target=\"_parent\"><img src=\"https://colab.research.google.com/assets/colab-badge.svg\" alt=\"Open In Colab\"/></a>"
      ]
    },
    {
      "cell_type": "code",
      "execution_count": 169,
      "metadata": {
        "id": "lhuAdxjU2Lrh"
      },
      "outputs": [],
      "source": [
        "from sklearn.datasets import fetch_california_housing\n",
        "from sklearn.model_selection import train_test_split\n",
        "import pandas as pd\n",
        "import torch.nn as nn\n",
        "import torch\n",
        "from torch.utils.data import Dataset, DataLoader, TensorDataset\n",
        "from torchvision import datasets"
      ]
    },
    {
      "cell_type": "code",
      "source": [
        "device='cpu'\n",
        "train_data_folder= 'data/FMNIST/train'\n",
        "test_data_folder= 'data/FMNIST/test'\n",
        "train_fmnist= datasets.FashionMNIST(train_data_folder,download=True, train=True)\n",
        "test_fmnist= datasets.FashionMNIST(test_data_folder, download=True, train=False)\n",
        "train_x= train_fmnist.data\n",
        "train_y= train_fmnist.targets\n",
        "\n",
        "test_x= test_fmnist.data\n",
        "trest_y= test_fmnist.targets"
      ],
      "metadata": {
        "id": "2AuXecYc2-jP"
      },
      "execution_count": 170,
      "outputs": []
    },
    {
      "cell_type": "code",
      "source": [
        "train_x.shape #[60000, 28, 28]\n",
        "train_y.shape #[60000]\n",
        "train_x[0].shape #[28, 28] image 28*28\n",
        "train_y.unique() #[0, 1, 2, 3, 4, 5, 6, 7, 8, 9]\n",
        "#train_fmnist.classes"
      ],
      "metadata": {
        "colab": {
          "base_uri": "https://localhost:8080/"
        },
        "id": "LyDmyQdBSASr",
        "outputId": "b8158f64-6674-4746-9440-79310d7f554f"
      },
      "execution_count": 171,
      "outputs": [
        {
          "output_type": "execute_result",
          "data": {
            "text/plain": [
              "tensor([0, 1, 2, 3, 4, 5, 6, 7, 8, 9])"
            ]
          },
          "metadata": {},
          "execution_count": 171
        }
      ]
    },
    {
      "cell_type": "code",
      "source": [
        "class ManulClassification(nn.Module):\n",
        "  def __init__(self):\n",
        "    super().__init__()\n",
        "    self.fc1= nn.Linear(28*28,1000,True)\n",
        "    self.fc2= nn.Linear(1000,10,True)  # 10 classes\n",
        "    self.relu= nn.ReLU()\n",
        "\n",
        "  def forward(self, x):\n",
        "    x= self.fc1(x)\n",
        "    x= self.relu(x)\n",
        "    y= self.fc2(x)\n",
        "    return y"
      ],
      "metadata": {
        "id": "7BvgHCSy3AqA"
      },
      "execution_count": 172,
      "outputs": []
    },
    {
      "cell_type": "code",
      "source": [
        "# another way\n",
        "model= nn.Sequential(\n",
        "    nn.Linear(28*28, 1000),\n",
        "    nn.BatchNorm1d(1000),\n",
        "    nn.Dropout(0.5),\n",
        "    nn.ReLU(),\n",
        "    nn.Linear(1000,10)).to(device)"
      ],
      "metadata": {
        "id": "P86ou1s-fUjr"
      },
      "execution_count": 195,
      "outputs": []
    },
    {
      "cell_type": "code",
      "source": [
        "class CustomDataset(Dataset):\n",
        "  def __init__(self, data, target):\n",
        "    self.data = data.float()/255\n",
        "    self.data= self.data.view(-1,28*28) #flatten a 2d image to 1d\n",
        "    self.target=target\n",
        "  def __getitem__(self, id):\n",
        "    return self.data[id], self.target[id]\n",
        "  def __len__(self):\n",
        "    return len(self.data)"
      ],
      "metadata": {
        "id": "TbNGKbey3C-V"
      },
      "execution_count": 185,
      "outputs": []
    },
    {
      "cell_type": "code",
      "source": [
        "batch_size=32\n",
        "train_dataset= CustomDataset(train_x , train_y)\n",
        "validation_dataset= CustomDataset(test_x, trest_y)\n",
        "train_dataset.__len__()\n",
        "train_dataset.__len__()/batch_size"
      ],
      "metadata": {
        "colab": {
          "base_uri": "https://localhost:8080/"
        },
        "id": "VOzFPpGp3Efb",
        "outputId": "20079dee-e6e0-46b3-e9b1-28710bef7a7b"
      },
      "execution_count": 186,
      "outputs": [
        {
          "output_type": "execute_result",
          "data": {
            "text/plain": [
              "1875.0"
            ]
          },
          "metadata": {},
          "execution_count": 186
        }
      ]
    },
    {
      "cell_type": "code",
      "source": [
        "train_dataloader= DataLoader(train_dataset,batch_size, shuffle=True)\n",
        "test_dataloader= DataLoader(validation_dataset, batch_size, shuffle=True)\n",
        "len(train_dataloader)  #len/batch_size"
      ],
      "metadata": {
        "colab": {
          "base_uri": "https://localhost:8080/"
        },
        "id": "2EuBBbG53F_8",
        "outputId": "fb7a5982-864d-4f88-c0c7-ad4b46a1e095"
      },
      "execution_count": 187,
      "outputs": [
        {
          "output_type": "execute_result",
          "data": {
            "text/plain": [
              "1875"
            ]
          },
          "metadata": {},
          "execution_count": 187
        }
      ]
    },
    {
      "cell_type": "code",
      "source": [
        "def accuracy(output, targets):\n",
        "  _, predictions = torch.max(output, 1)  # class labels of max possiblitity resulted from a neuron\n",
        "\n",
        "  correct= (predictions==targets).sum().item()\n",
        "  return correct/targets.size(0)"
      ],
      "metadata": {
        "id": "wVENEbazfwuk"
      },
      "execution_count": 188,
      "outputs": []
    },
    {
      "cell_type": "code",
      "source": [
        "lr=0.01\n",
        "#model= ManulClassification().to(device)\n",
        "optimizer= torch.optim.SGD(model.parameters(), lr= lr)\n",
        "loss_function= nn.CrossEntropyLoss()  # for multi class data\n",
        "\n",
        "def train(model, dataloader, loss_function, optimizer):\n",
        "  total_loss=0.0\n",
        "  total_acc=0.0\n",
        "  for inputs, targets in dataloader:  # len(dataloader)/batch_size = count for\n",
        "    inputs, targets = inputs.to(device), targets.to(device)\n",
        "    model.train()\n",
        "    outputs = model(inputs)\n",
        "    loss_of_a_batch = loss_function(outputs,targets)\n",
        "    loss_of_a_batch.backward()\n",
        "    optimizer.step()\n",
        "    optimizer.zero_grad()\n",
        "    total_loss += loss_of_a_batch.item()\n",
        "    total_acc=accuracy(outputs,targets)\n",
        "  return total_loss/len(dataloader), total_acc/len(dataloader)  #mean in every epoch\n",
        "\n",
        "def validate(model, dataloader, loss_function):\n",
        "    model.eval()\n",
        "    total_loss=0.0\n",
        "    total_acc=0.0\n",
        "    with torch.no_grad():\n",
        "      for inputs, targets in dataloader:\n",
        "        inputs, targets= inputs.to(device), targets.to(device)\n",
        "        outputs= model(inputs)\n",
        "        loss= loss_function(outputs,targets)\n",
        "        total_loss += loss.item()\n",
        "        total_acc=accuracy(outputs,targets)\n",
        "    return total_loss/len(dataloader), total_acc/len(dataloader)  #mean in every epoch\n",
        "\n"
      ],
      "metadata": {
        "id": "noFUrxzG3JO1"
      },
      "execution_count": 189,
      "outputs": []
    }
  ]
}