{
  "nbformat": 4,
  "nbformat_minor": 0,
  "metadata": {
    "colab": {
      "provenance": [],
      "authorship_tag": "ABX9TyMQ3xXCvEfee+uNeThGQziV",
      "include_colab_link": true
    },
    "kernelspec": {
      "name": "python3",
      "display_name": "Python 3"
    },
    "language_info": {
      "name": "python"
    }
  },
  "cells": [
    {
      "cell_type": "markdown",
      "metadata": {
        "id": "view-in-github",
        "colab_type": "text"
      },
      "source": [
        "<a href=\"https://colab.research.google.com/github/Gru97/DeepLearningCourse/blob/main/class_sample_session4.ipynb\" target=\"_parent\"><img src=\"https://colab.research.google.com/assets/colab-badge.svg\" alt=\"Open In Colab\"/></a>"
      ]
    },
    {
      "cell_type": "code",
      "execution_count": 2,
      "metadata": {
        "id": "lhuAdxjU2Lrh"
      },
      "outputs": [],
      "source": [
        "from sklearn.datasets import fetch_california_housing\n",
        "from sklearn.model_selection import train_test_split\n",
        "import pandas as pd\n",
        "import torch.nn as nn\n",
        "import torch\n",
        "from torch.utils.data import Dataset, DataLoader, TensorDataset\n",
        "from torchvision import datasets"
      ]
    },
    {
      "cell_type": "code",
      "source": [
        "device='cpu'\n",
        "train_data_folder= 'data/FMNIST/train'\n",
        "test_data_folder= 'data/FMNIST/test'\n",
        "train_fmnist= datasets.FashionMNIST(train_data_folder,download=True, train=True)\n",
        "test_fmnist= datasets.FashionMNIST(test_data_folder, download=True, train=False)\n",
        "train_x= train_fmnist.data\n",
        "train_y= train_fmnist.targets\n",
        "\n",
        "test_x= test_fmnist.data\n",
        "trest_y= test_fmnist.targets"
      ],
      "metadata": {
        "id": "2AuXecYc2-jP"
      },
      "execution_count": null,
      "outputs": []
    },
    {
      "cell_type": "code",
      "source": [
        "train_x.shape #[60000, 28, 28]\n",
        "train_y.shape #[60000]\n",
        "train_x[0].shape #[28, 28] image 28*28\n",
        "train_y.unique() #[0, 1, 2, 3, 4, 5, 6, 7, 8, 9]\n",
        "#train_fmnist.classes"
      ],
      "metadata": {
        "colab": {
          "base_uri": "https://localhost:8080/"
        },
        "id": "LyDmyQdBSASr",
        "outputId": "ceca09b1-5a44-4e27-98d8-4a124c53a72a"
      },
      "execution_count": 4,
      "outputs": [
        {
          "output_type": "execute_result",
          "data": {
            "text/plain": [
              "tensor([0, 1, 2, 3, 4, 5, 6, 7, 8, 9])"
            ]
          },
          "metadata": {},
          "execution_count": 4
        }
      ]
    },
    {
      "cell_type": "code",
      "source": [
        "class ManulClassification(nn.Module):\n",
        "  def __init__(self):\n",
        "    super().__init__()\n",
        "    self.fc1= nn.Linear(28*28,1000,True)\n",
        "    self.fc2= nn.Linear(1000,10,True)  # 10 classes\n",
        "    self.relu= nn.ReLU()\n",
        "\n",
        "  def forward(self, x):\n",
        "    x= self.fc1(x)\n",
        "    x= self.relu(x)\n",
        "    y= self.fc2(x)\n",
        "    return y"
      ],
      "metadata": {
        "id": "7BvgHCSy3AqA"
      },
      "execution_count": 5,
      "outputs": []
    },
    {
      "cell_type": "code",
      "source": [
        "# another way\n",
        "model= nn.Sequential(\n",
        "    nn.Linear(28*28, 1000),\n",
        "    nn.BatchNorm1d(1000),\n",
        "    nn.Dropout(0.5),\n",
        "    nn.ReLU(),\n",
        "    nn.Linear(1000,10)).to(device)"
      ],
      "metadata": {
        "id": "P86ou1s-fUjr"
      },
      "execution_count": 6,
      "outputs": []
    },
    {
      "cell_type": "code",
      "source": [
        "class CustomDataset(Dataset):\n",
        "  def __init__(self, data, target):\n",
        "    self.data = data.float()/255\n",
        "    self.data= self.data.view(-1,28*28) #flatten a 2d image to 1d\n",
        "    self.target=target\n",
        "  def __getitem__(self, id):\n",
        "    return self.data[id], self.target[id]\n",
        "  def __len__(self):\n",
        "    return len(self.data)"
      ],
      "metadata": {
        "id": "TbNGKbey3C-V"
      },
      "execution_count": 7,
      "outputs": []
    },
    {
      "cell_type": "code",
      "source": [
        "batch_size=32\n",
        "train_dataset= CustomDataset(train_x , train_y)\n",
        "validation_dataset= CustomDataset(test_x, trest_y)\n",
        "train_dataset.__len__()\n",
        "train_dataset.__len__()/batch_size"
      ],
      "metadata": {
        "colab": {
          "base_uri": "https://localhost:8080/"
        },
        "id": "VOzFPpGp3Efb",
        "outputId": "b217cd05-d70c-440f-abc4-49a89d1cc024"
      },
      "execution_count": 8,
      "outputs": [
        {
          "output_type": "execute_result",
          "data": {
            "text/plain": [
              "1875.0"
            ]
          },
          "metadata": {},
          "execution_count": 8
        }
      ]
    },
    {
      "cell_type": "code",
      "source": [
        "train_dataloader= DataLoader(train_dataset,batch_size, shuffle=True)\n",
        "test_dataloader= DataLoader(validation_dataset, batch_size, shuffle=True)\n",
        "len(train_dataloader)  #len/batch_size"
      ],
      "metadata": {
        "colab": {
          "base_uri": "https://localhost:8080/"
        },
        "id": "2EuBBbG53F_8",
        "outputId": "cebfb207-0d1b-464b-96b6-d2fc5adf82bb"
      },
      "execution_count": 9,
      "outputs": [
        {
          "output_type": "execute_result",
          "data": {
            "text/plain": [
              "1875"
            ]
          },
          "metadata": {},
          "execution_count": 9
        }
      ]
    },
    {
      "cell_type": "code",
      "source": [
        "def accuracy(output, targets):\n",
        "  _, predictions = torch.max(output, 1)  # class labels of max possiblitity resulted from a neuron\n",
        "\n",
        "  correct= (predictions==targets).sum().item()\n",
        "  return correct/targets.size(0)"
      ],
      "metadata": {
        "id": "wVENEbazfwuk"
      },
      "execution_count": 10,
      "outputs": []
    },
    {
      "cell_type": "code",
      "source": [
        "lr=0.01\n",
        "#model= ManulClassification().to(device)\n",
        "optimizer= torch.optim.SGD(model.parameters(), lr= lr)\n",
        "loss_function= nn.CrossEntropyLoss()  # for multi class data\n",
        "\n",
        "def train(model, dataloader, loss_function, optimizer):\n",
        "  total_loss=0.0\n",
        "  total_acc=0.0\n",
        "  for inputs, targets in dataloader:  # len(dataloader)/batch_size = count for\n",
        "    inputs, targets = inputs.to(device), targets.to(device)\n",
        "    model.train()\n",
        "    outputs = model(inputs)\n",
        "    loss_of_a_batch = loss_function(outputs,targets)\n",
        "    loss_of_a_batch.backward()\n",
        "    optimizer.step()\n",
        "    optimizer.zero_grad()\n",
        "    total_loss += loss_of_a_batch.item()\n",
        "    total_acc += accuracy(outputs,targets)\n",
        "  return total_loss/len(dataloader), total_acc/len(dataloader)  #mean in every epoch\n",
        "\n",
        "def validate(model, dataloader, loss_function):\n",
        "    model.eval()\n",
        "    total_loss=0.0\n",
        "    total_acc=0.0\n",
        "    with torch.no_grad():\n",
        "      for inputs, targets in dataloader:\n",
        "        inputs, targets= inputs.to(device), targets.to(device)\n",
        "        outputs= model(inputs)\n",
        "        loss= loss_function(outputs,targets)\n",
        "        total_loss += loss.item()\n",
        "        total_acc += accuracy(outputs,targets)\n",
        "    return total_loss/len(dataloader), total_acc/len(dataloader)  #mean in every epoch\n",
        "\n"
      ],
      "metadata": {
        "id": "noFUrxzG3JO1"
      },
      "execution_count": 13,
      "outputs": []
    },
    {
      "cell_type": "code",
      "source": [
        "epoch=50\n",
        "train_losses=[]\n",
        "test_losses=[]\n",
        "train_acc=[]\n",
        "test_acc=[]\n",
        "for i in range(epoch):\n",
        "    train_loss, train_accuracy = train(model, train_dataloader, loss_function, optimizer)\n",
        "    train_losses.append(train_loss)\n",
        "    train_acc.append(train_accuracy)\n",
        "    test_loss, test_accuracy =validate(model, test_dataloader, loss_function)\n",
        "    test_losses.append(test_loss)\n",
        "    test_acc.append(test_accuracy)\n",
        "\n",
        "    print(f\"Epoch {i+1}/{epoch},train_loss: {train_loss}, test_loss: {test_loss}, train_acc: {train_acc}, test_acc: {test_acc}\")\n",
        ""
      ],
      "metadata": {
        "colab": {
          "base_uri": "https://localhost:8080/"
        },
        "id": "srbfI53vsnsf",
        "outputId": "531b0ccd-08af-45ef-fff1-35976ac645b3"
      },
      "execution_count": null,
      "outputs": [
        {
          "output_type": "stream",
          "name": "stdout",
          "text": [
            "Epoch 1/50,train_loss: 0.2865276704847813, test_loss: 0.3169841665548448, train_acc: [0.8963333333333333], test_acc: [0.8862819488817891]\n",
            "Epoch 2/50,train_loss: 0.27996060129205386, test_loss: 0.3251963831341495, train_acc: [0.8963333333333333, 0.8986666666666666], test_acc: [0.8862819488817891, 0.880491214057508]\n",
            "Epoch 3/50,train_loss: 0.2753411883374055, test_loss: 0.31196444554212754, train_acc: [0.8963333333333333, 0.8986666666666666, 0.8990666666666667], test_acc: [0.8862819488817891, 0.880491214057508, 0.891573482428115]\n",
            "Epoch 4/50,train_loss: 0.2688638707737128, test_loss: 0.31143237750370284, train_acc: [0.8963333333333333, 0.8986666666666666, 0.8990666666666667, 0.9022333333333333], test_acc: [0.8862819488817891, 0.880491214057508, 0.891573482428115, 0.889576677316294]\n"
          ]
        }
      ]
    }
  ]
}