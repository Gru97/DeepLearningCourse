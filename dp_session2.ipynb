{
  "nbformat": 4,
  "nbformat_minor": 0,
  "metadata": {
    "colab": {
      "provenance": [],
      "gpuType": "T4",
      "authorship_tag": "ABX9TyP6ovBoi1K1Jom8EEPMnj5a",
      "include_colab_link": true
    },
    "kernelspec": {
      "name": "python3",
      "display_name": "Python 3"
    },
    "language_info": {
      "name": "python"
    },
    "accelerator": "GPU"
  },
  "cells": [
    {
      "cell_type": "markdown",
      "metadata": {
        "id": "view-in-github",
        "colab_type": "text"
      },
      "source": [
        "<a href=\"https://colab.research.google.com/github/Gru97/DeepLearningCourse/blob/main/dp_session2.ipynb\" target=\"_parent\"><img src=\"https://colab.research.google.com/assets/colab-badge.svg\" alt=\"Open In Colab\"/></a>"
      ]
    },
    {
      "cell_type": "code",
      "execution_count": 7,
      "metadata": {
        "colab": {
          "base_uri": "https://localhost:8080/"
        },
        "id": "1fwCchPChlUV",
        "outputId": "45670763-26b1-4d16-d7ec-3d2db8ea2d2e"
      },
      "outputs": [
        {
          "output_type": "execute_result",
          "data": {
            "text/plain": [
              "(200, 1)"
            ]
          },
          "metadata": {},
          "execution_count": 7
        }
      ],
      "source": [
        "import numpy as np\n",
        "x= np.random.rand(200,1)\n",
        "e=np.random.rand(200,1)*.2\n",
        "true_b=1\n",
        "true_w=2\n",
        "y=true_b+ true_w*x+e\n",
        "y.shape\n"
      ]
    },
    {
      "cell_type": "code",
      "source": [
        "import torch\n",
        "x_tensor= torch.tensor(x)\n",
        "y_tensor= torch.tensor(y)"
      ],
      "metadata": {
        "id": "4rKu5yUaiSYy"
      },
      "execution_count": 8,
      "outputs": []
    },
    {
      "cell_type": "code",
      "source": [
        "print(x_tensor.device)\n",
        "device='cuda' if torch.cuda.is_available else 'cpu'\n",
        "print(device)\n",
        "x_tensor = x_tensor.to(device)\n",
        "x_tensor.device\n",
        "\n",
        "y_tensor=y_tensor.to(device)"
      ],
      "metadata": {
        "colab": {
          "base_uri": "https://localhost:8080/"
        },
        "id": "YJOU5VpdjyK7",
        "outputId": "4b3980fa-dc6a-4199-ace9-bea4ddcfa5f2"
      },
      "execution_count": 9,
      "outputs": [
        {
          "output_type": "stream",
          "name": "stdout",
          "text": [
            "cpu\n",
            "cuda\n"
          ]
        }
      ]
    },
    {
      "cell_type": "code",
      "source": [
        "torch.manual_seed(42)\n",
        "b= torch.randn(1, requires_grad=True, device= device)\n",
        "w=torch.randn(1, requires_grad=True, device= device)\n",
        "b,w"
      ],
      "metadata": {
        "colab": {
          "base_uri": "https://localhost:8080/"
        },
        "id": "b0XAGM7cmJk5",
        "outputId": "8ca4acf0-09da-4dcb-8ae2-85367a856de1"
      },
      "execution_count": 10,
      "outputs": [
        {
          "output_type": "execute_result",
          "data": {
            "text/plain": [
              "(tensor([0.1940], device='cuda:0', requires_grad=True),\n",
              " tensor([0.1391], device='cuda:0', requires_grad=True))"
            ]
          },
          "metadata": {},
          "execution_count": 10
        }
      ]
    },
    {
      "cell_type": "code",
      "source": [
        "y_pred= b+w*x_tensor\n",
        "error = y_pred-y_tensor\n",
        "loss= 0.5*(error**2).mean()\n",
        "loss.backward()\n",
        "w.grad, b.grad"
      ],
      "metadata": {
        "colab": {
          "base_uri": "https://localhost:8080/"
        },
        "id": "2h8vIsQMo215",
        "outputId": "d4d04e4e-06a6-434f-9556-1da139bc2d4f"
      },
      "execution_count": 11,
      "outputs": [
        {
          "output_type": "execute_result",
          "data": {
            "text/plain": [
              "(tensor([-1.0470], device='cuda:0'), tensor([-1.8230], device='cuda:0'))"
            ]
          },
          "metadata": {},
          "execution_count": 11
        }
      ]
    },
    {
      "cell_type": "code",
      "source": [
        "lr=0.5\n",
        "\n",
        "with torch.no_grad():\n",
        "  w -= lr * w.grad\n",
        "  b -= b-lr * b.grad\n",
        "w.grad.zero_()\n",
        "b.grad.zero_()"
      ],
      "metadata": {
        "colab": {
          "base_uri": "https://localhost:8080/"
        },
        "id": "W0XSUo6osRyD",
        "outputId": "a3bde887-ba56-4970-e866-718323c3e556"
      },
      "execution_count": 12,
      "outputs": [
        {
          "output_type": "execute_result",
          "data": {
            "text/plain": [
              "tensor([0.], device='cuda:0')"
            ]
          },
          "metadata": {},
          "execution_count": 12
        }
      ]
    },
    {
      "cell_type": "code",
      "source": [
        "loss.detach().cpu().item()\n"
      ],
      "metadata": {
        "colab": {
          "base_uri": "https://localhost:8080/"
        },
        "id": "RXySwzNcsVPy",
        "outputId": "e5c397e0-a7b8-4658-fa08-aeb6737899c6"
      },
      "execution_count": 13,
      "outputs": [
        {
          "output_type": "execute_result",
          "data": {
            "text/plain": [
              "1.8024155748701771"
            ]
          },
          "metadata": {},
          "execution_count": 13
        }
      ]
    },
    {
      "cell_type": "code",
      "source": [
        "!pip install torchviz\n",
        "!pip install graphviz"
      ],
      "metadata": {
        "colab": {
          "base_uri": "https://localhost:8080/"
        },
        "id": "ftm7SEYgzQTD",
        "outputId": "2a39ebaa-bbb6-4935-b9fe-6781a393632d"
      },
      "execution_count": 95,
      "outputs": [
        {
          "output_type": "stream",
          "name": "stdout",
          "text": [
            "Collecting torchviz\n",
            "  Downloading torchviz-0.0.2.tar.gz (4.9 kB)\n",
            "  Preparing metadata (setup.py) ... \u001b[?25l\u001b[?25hdone\n",
            "Requirement already satisfied: torch in /usr/local/lib/python3.10/dist-packages (from torchviz) (2.5.0+cu121)\n",
            "Requirement already satisfied: graphviz in /usr/local/lib/python3.10/dist-packages (from torchviz) (0.20.3)\n",
            "Requirement already satisfied: filelock in /usr/local/lib/python3.10/dist-packages (from torch->torchviz) (3.16.1)\n",
            "Requirement already satisfied: typing-extensions>=4.8.0 in /usr/local/lib/python3.10/dist-packages (from torch->torchviz) (4.12.2)\n",
            "Requirement already satisfied: networkx in /usr/local/lib/python3.10/dist-packages (from torch->torchviz) (3.4.2)\n",
            "Requirement already satisfied: jinja2 in /usr/local/lib/python3.10/dist-packages (from torch->torchviz) (3.1.4)\n",
            "Requirement already satisfied: fsspec in /usr/local/lib/python3.10/dist-packages (from torch->torchviz) (2024.6.1)\n",
            "Requirement already satisfied: sympy==1.13.1 in /usr/local/lib/python3.10/dist-packages (from torch->torchviz) (1.13.1)\n",
            "Requirement already satisfied: mpmath<1.4,>=1.1.0 in /usr/local/lib/python3.10/dist-packages (from sympy==1.13.1->torch->torchviz) (1.3.0)\n",
            "Requirement already satisfied: MarkupSafe>=2.0 in /usr/local/lib/python3.10/dist-packages (from jinja2->torch->torchviz) (3.0.2)\n",
            "Building wheels for collected packages: torchviz\n",
            "  Building wheel for torchviz (setup.py) ... \u001b[?25l\u001b[?25hdone\n",
            "  Created wheel for torchviz: filename=torchviz-0.0.2-py3-none-any.whl size=4132 sha256=3a51e16c71375fda1d9c8100c631ecf483ec2793e62ee25b4186b33e2d2ccf40\n",
            "  Stored in directory: /root/.cache/pip/wheels/4c/97/88/a02973217949e0db0c9f4346d154085f4725f99c4f15a87094\n",
            "Successfully built torchviz\n",
            "Installing collected packages: torchviz\n",
            "Successfully installed torchviz-0.0.2\n",
            "Requirement already satisfied: graphviz in /usr/local/lib/python3.10/dist-packages (0.20.3)\n"
          ]
        }
      ]
    },
    {
      "cell_type": "code",
      "source": [
        "from torchviz import make_dot\n",
        "make_dot(loss)"
      ],
      "metadata": {
        "colab": {
          "base_uri": "https://localhost:8080/",
          "height": 692
        },
        "id": "Of0HSDOtzp7U",
        "outputId": "079f46c1-5f0f-43d0-854b-f5494ee55bb5"
      },
      "execution_count": 98,
      "outputs": [
        {
          "output_type": "execute_result",
          "data": {
            "image/svg+xml": "<?xml version=\"1.0\" encoding=\"UTF-8\" standalone=\"no\"?>\n<!DOCTYPE svg PUBLIC \"-//W3C//DTD SVG 1.1//EN\"\n \"http://www.w3.org/Graphics/SVG/1.1/DTD/svg11.dtd\">\n<!-- Generated by graphviz version 2.43.0 (0)\n -->\n<!-- Title: %3 Pages: 1 -->\n<svg width=\"222pt\" height=\"503pt\"\n viewBox=\"0.00 0.00 222.00 503.00\" xmlns=\"http://www.w3.org/2000/svg\" xmlns:xlink=\"http://www.w3.org/1999/xlink\">\n<g id=\"graph0\" class=\"graph\" transform=\"scale(1 1) rotate(0) translate(4 499)\">\n<title>%3</title>\n<polygon fill=\"white\" stroke=\"transparent\" points=\"-4,4 -4,-499 218,-499 218,4 -4,4\"/>\n<!-- 135004948965040 -->\n<g id=\"node1\" class=\"node\">\n<title>135004948965040</title>\n<polygon fill=\"#caff70\" stroke=\"black\" points=\"133.5,-31 79.5,-31 79.5,0 133.5,0 133.5,-31\"/>\n<text text-anchor=\"middle\" x=\"106.5\" y=\"-7\" font-family=\"monospace\" font-size=\"10.00\"> ()</text>\n</g>\n<!-- 135004728995040 -->\n<g id=\"node2\" class=\"node\">\n<title>135004728995040</title>\n<polygon fill=\"lightgrey\" stroke=\"black\" points=\"151,-86 62,-86 62,-67 151,-67 151,-86\"/>\n<text text-anchor=\"middle\" x=\"106.5\" y=\"-74\" font-family=\"monospace\" font-size=\"10.00\">MulBackward0</text>\n</g>\n<!-- 135004728995040&#45;&gt;135004948965040 -->\n<g id=\"edge10\" class=\"edge\">\n<title>135004728995040&#45;&gt;135004948965040</title>\n<path fill=\"none\" stroke=\"black\" d=\"M106.5,-66.79C106.5,-60.07 106.5,-50.4 106.5,-41.34\"/>\n<polygon fill=\"black\" stroke=\"black\" points=\"110,-41.19 106.5,-31.19 103,-41.19 110,-41.19\"/>\n</g>\n<!-- 135004728992112 -->\n<g id=\"node3\" class=\"node\">\n<title>135004728992112</title>\n<polygon fill=\"lightgrey\" stroke=\"black\" points=\"154,-141 59,-141 59,-122 154,-122 154,-141\"/>\n<text text-anchor=\"middle\" x=\"106.5\" y=\"-129\" font-family=\"monospace\" font-size=\"10.00\">MeanBackward0</text>\n</g>\n<!-- 135004728992112&#45;&gt;135004728995040 -->\n<g id=\"edge1\" class=\"edge\">\n<title>135004728992112&#45;&gt;135004728995040</title>\n<path fill=\"none\" stroke=\"black\" d=\"M106.5,-121.75C106.5,-114.8 106.5,-104.85 106.5,-96.13\"/>\n<polygon fill=\"black\" stroke=\"black\" points=\"110,-96.09 106.5,-86.09 103,-96.09 110,-96.09\"/>\n</g>\n<!-- 135004728996240 -->\n<g id=\"node4\" class=\"node\">\n<title>135004728996240</title>\n<polygon fill=\"lightgrey\" stroke=\"black\" points=\"151,-196 62,-196 62,-177 151,-177 151,-196\"/>\n<text text-anchor=\"middle\" x=\"106.5\" y=\"-184\" font-family=\"monospace\" font-size=\"10.00\">PowBackward0</text>\n</g>\n<!-- 135004728996240&#45;&gt;135004728992112 -->\n<g id=\"edge2\" class=\"edge\">\n<title>135004728996240&#45;&gt;135004728992112</title>\n<path fill=\"none\" stroke=\"black\" d=\"M106.5,-176.75C106.5,-169.8 106.5,-159.85 106.5,-151.13\"/>\n<polygon fill=\"black\" stroke=\"black\" points=\"110,-151.09 106.5,-141.09 103,-151.09 110,-151.09\"/>\n</g>\n<!-- 135004728989088 -->\n<g id=\"node5\" class=\"node\">\n<title>135004728989088</title>\n<polygon fill=\"lightgrey\" stroke=\"black\" points=\"151,-251 62,-251 62,-232 151,-232 151,-251\"/>\n<text text-anchor=\"middle\" x=\"106.5\" y=\"-239\" font-family=\"monospace\" font-size=\"10.00\">SubBackward0</text>\n</g>\n<!-- 135004728989088&#45;&gt;135004728996240 -->\n<g id=\"edge3\" class=\"edge\">\n<title>135004728989088&#45;&gt;135004728996240</title>\n<path fill=\"none\" stroke=\"black\" d=\"M106.5,-231.75C106.5,-224.8 106.5,-214.85 106.5,-206.13\"/>\n<polygon fill=\"black\" stroke=\"black\" points=\"110,-206.09 106.5,-196.09 103,-206.09 110,-206.09\"/>\n</g>\n<!-- 135004728996144 -->\n<g id=\"node6\" class=\"node\">\n<title>135004728996144</title>\n<polygon fill=\"lightgrey\" stroke=\"black\" points=\"151,-306 62,-306 62,-287 151,-287 151,-306\"/>\n<text text-anchor=\"middle\" x=\"106.5\" y=\"-294\" font-family=\"monospace\" font-size=\"10.00\">AddBackward0</text>\n</g>\n<!-- 135004728996144&#45;&gt;135004728989088 -->\n<g id=\"edge4\" class=\"edge\">\n<title>135004728996144&#45;&gt;135004728989088</title>\n<path fill=\"none\" stroke=\"black\" d=\"M106.5,-286.75C106.5,-279.8 106.5,-269.85 106.5,-261.13\"/>\n<polygon fill=\"black\" stroke=\"black\" points=\"110,-261.09 106.5,-251.09 103,-261.09 110,-261.09\"/>\n</g>\n<!-- 135004728990096 -->\n<g id=\"node7\" class=\"node\">\n<title>135004728990096</title>\n<polygon fill=\"lightgrey\" stroke=\"black\" points=\"101,-361 0,-361 0,-342 101,-342 101,-361\"/>\n<text text-anchor=\"middle\" x=\"50.5\" y=\"-349\" font-family=\"monospace\" font-size=\"10.00\">AccumulateGrad</text>\n</g>\n<!-- 135004728990096&#45;&gt;135004728996144 -->\n<g id=\"edge5\" class=\"edge\">\n<title>135004728990096&#45;&gt;135004728996144</title>\n<path fill=\"none\" stroke=\"black\" d=\"M59.5,-341.98C67.69,-334.23 80.01,-322.58 89.97,-313.14\"/>\n<polygon fill=\"black\" stroke=\"black\" points=\"92.48,-315.59 97.34,-306.17 87.67,-310.5 92.48,-315.59\"/>\n</g>\n<!-- 135004950477168 -->\n<g id=\"node8\" class=\"node\">\n<title>135004950477168</title>\n<polygon fill=\"lightblue\" stroke=\"black\" points=\"77.5,-428 23.5,-428 23.5,-397 77.5,-397 77.5,-428\"/>\n<text text-anchor=\"middle\" x=\"50.5\" y=\"-404\" font-family=\"monospace\" font-size=\"10.00\"> (1)</text>\n</g>\n<!-- 135004950477168&#45;&gt;135004728990096 -->\n<g id=\"edge6\" class=\"edge\">\n<title>135004950477168&#45;&gt;135004728990096</title>\n<path fill=\"none\" stroke=\"black\" d=\"M50.5,-396.92C50.5,-389.22 50.5,-379.69 50.5,-371.43\"/>\n<polygon fill=\"black\" stroke=\"black\" points=\"54,-371.25 50.5,-361.25 47,-371.25 54,-371.25\"/>\n</g>\n<!-- 135004728983760 -->\n<g id=\"node9\" class=\"node\">\n<title>135004728983760</title>\n<polygon fill=\"lightgrey\" stroke=\"black\" points=\"208,-361 119,-361 119,-342 208,-342 208,-361\"/>\n<text text-anchor=\"middle\" x=\"163.5\" y=\"-349\" font-family=\"monospace\" font-size=\"10.00\">MulBackward0</text>\n</g>\n<!-- 135004728983760&#45;&gt;135004728996144 -->\n<g id=\"edge7\" class=\"edge\">\n<title>135004728983760&#45;&gt;135004728996144</title>\n<path fill=\"none\" stroke=\"black\" d=\"M154.34,-341.98C146,-334.23 133.47,-322.58 123.32,-313.14\"/>\n<polygon fill=\"black\" stroke=\"black\" points=\"125.53,-310.42 115.82,-306.17 120.76,-315.54 125.53,-310.42\"/>\n</g>\n<!-- 135004728989376 -->\n<g id=\"node10\" class=\"node\">\n<title>135004728989376</title>\n<polygon fill=\"lightgrey\" stroke=\"black\" points=\"214,-422 113,-422 113,-403 214,-403 214,-422\"/>\n<text text-anchor=\"middle\" x=\"163.5\" y=\"-410\" font-family=\"monospace\" font-size=\"10.00\">AccumulateGrad</text>\n</g>\n<!-- 135004728989376&#45;&gt;135004728983760 -->\n<g id=\"edge8\" class=\"edge\">\n<title>135004728989376&#45;&gt;135004728983760</title>\n<path fill=\"none\" stroke=\"black\" d=\"M163.5,-402.79C163.5,-394.6 163.5,-382.06 163.5,-371.55\"/>\n<polygon fill=\"black\" stroke=\"black\" points=\"167,-371.24 163.5,-361.24 160,-371.24 167,-371.24\"/>\n</g>\n<!-- 135004950367024 -->\n<g id=\"node11\" class=\"node\">\n<title>135004950367024</title>\n<polygon fill=\"lightblue\" stroke=\"black\" points=\"190.5,-495 136.5,-495 136.5,-464 190.5,-464 190.5,-495\"/>\n<text text-anchor=\"middle\" x=\"163.5\" y=\"-471\" font-family=\"monospace\" font-size=\"10.00\"> (1)</text>\n</g>\n<!-- 135004950367024&#45;&gt;135004728989376 -->\n<g id=\"edge9\" class=\"edge\">\n<title>135004950367024&#45;&gt;135004728989376</title>\n<path fill=\"none\" stroke=\"black\" d=\"M163.5,-463.75C163.5,-454.39 163.5,-442.19 163.5,-432.16\"/>\n<polygon fill=\"black\" stroke=\"black\" points=\"167,-432.02 163.5,-422.02 160,-432.02 167,-432.02\"/>\n</g>\n</g>\n</svg>\n",
            "text/plain": [
              "<graphviz.graphs.Digraph at 0x7ac93cea1ff0>"
            ]
          },
          "metadata": {},
          "execution_count": 98
        }
      ]
    },
    {
      "cell_type": "code",
      "source": [
        "#with loop\n",
        "torch.manual_seed(42)\n",
        "b= torch.randn(1, requires_grad=True, device= device)\n",
        "w=torch.randn(1, requires_grad=True, device= device)\n",
        "b,w\n",
        "\n",
        "losses=[]\n",
        "epoch=50\n",
        "for _ in range(epoch):\n",
        "  y_pred= b + w* x_tensor\n",
        "  error = y_pred - y_tensor\n",
        "  loss = lr*(error**2).mean()\n",
        "  loss.backward()\n",
        "\n",
        "  with torch.no_grad():\n",
        "    w -= lr * w.grad\n",
        "    b -= lr * b.grad\n",
        "\n",
        "  w.grad.zero_()\n",
        "  b.grad.zero_()\n",
        "  losses.append(loss.detach().cpu().item())"
      ],
      "metadata": {
        "id": "2aHNm1ujg5w3"
      },
      "execution_count": 22,
      "outputs": []
    },
    {
      "cell_type": "code",
      "source": [
        "losses"
      ],
      "metadata": {
        "colab": {
          "base_uri": "https://localhost:8080/"
        },
        "id": "2qw1z7emkan2",
        "outputId": "0cde1357-3c98-4a8f-dba1-85d9b5cfd7e2"
      },
      "execution_count": 23,
      "outputs": [
        {
          "output_type": "execute_result",
          "data": {
            "text/plain": [
              "[1.8024155748701771,\n",
              " 0.28711703346691053,\n",
              " 0.0765539408424792,\n",
              " 0.04537536783940643,\n",
              " 0.038981604124619415,\n",
              " 0.036126185106677804,\n",
              " 0.03388200330398664,\n",
              " 0.03183903510449979,\n",
              " 0.029933528559321524,\n",
              " 0.02814978298580841,\n",
              " 0.026479124725516515,\n",
              " 0.02491425390528107,\n",
              " 0.0234484625085668,\n",
              " 0.02207547031343358,\n",
              " 0.020789403683732412,\n",
              " 0.01958475879160179,\n",
              " 0.018456384879817864,\n",
              " 0.017399449233219004,\n",
              " 0.01640942886929554,\n",
              " 0.015482089129960687,\n",
              " 0.014613460619448425,\n",
              " 0.013799826950869006,\n",
              " 0.01303770397222065,\n",
              " 0.01232383195018933,\n",
              " 0.011655156056562737,\n",
              " 0.011028814473843112,\n",
              " 0.01044212840838866,\n",
              " 0.009892584335918515,\n",
              " 0.00937783274516845,\n",
              " 0.008895671475481853,\n",
              " 0.008444037218733255,\n",
              " 0.008020996979898607,\n",
              " 0.007624739109305717,\n",
              " 0.007253568827958765,\n",
              " 0.006905895750538575,\n",
              " 0.0065802370748842785,\n",
              " 0.0062751964221935234,\n",
              " 0.0059894680929182525,\n",
              " 0.005721827801993293,\n",
              " 0.005471132678538384,\n",
              " 0.005236309211026186,\n",
              " 0.00501635269783411,\n",
              " 0.004810321851799423,\n",
              " 0.0046173353492618705,\n",
              " 0.004436566882002161,\n",
              " 0.004267243242592794,\n",
              " 0.004108639829629734,\n",
              " 0.003960077964838271,\n",
              " 0.003820921333885604,\n",
              " 0.0036905750098853653]"
            ]
          },
          "metadata": {},
          "execution_count": 23
        }
      ]
    },
    {
      "cell_type": "code",
      "source": [
        "w, b"
      ],
      "metadata": {
        "colab": {
          "base_uri": "https://localhost:8080/"
        },
        "id": "tOI3dJCHkg78",
        "outputId": "3a2bc85a-8e99-4d81-f31f-1c7bc2019335"
      },
      "execution_count": 24,
      "outputs": [
        {
          "output_type": "execute_result",
          "data": {
            "text/plain": [
              "(tensor([1.7821], device='cuda:0', requires_grad=True),\n",
              " tensor([1.2158], device='cuda:0', requires_grad=True))"
            ]
          },
          "metadata": {},
          "execution_count": 24
        }
      ]
    },
    {
      "cell_type": "code",
      "source": [
        "from torch import optim\n",
        "\n",
        "torch.manual_seed(42)\n",
        "b= torch.randn(1, requires_grad=True, device = device)\n",
        "w= torch.randn(1, requires_grad=  True, device= device)\n",
        "losses=[]\n",
        "lr=0.5\n",
        "optimizer = optim.SGD([b,w], lr=lr)\n",
        "\n",
        "for _ in range(epoch):\n",
        "  y_pred= b + w*x_tensor\n",
        "  error= y_pred - y_tensor\n",
        "  loss = 0.5*(error**2).mean()\n",
        "  loss.backward()\n",
        "\n",
        "  optimizer.step()\n",
        "  optimizer.zero_grad()\n",
        "  losses.append(loss.detach().cpu().item())\n",
        "\n",
        "losses, w, b"
      ],
      "metadata": {
        "colab": {
          "base_uri": "https://localhost:8080/"
        },
        "id": "-k6CK4wgk0Kd",
        "outputId": "94162028-ff32-4ce0-be57-57cca06ba2dd"
      },
      "execution_count": 29,
      "outputs": [
        {
          "output_type": "execute_result",
          "data": {
            "text/plain": [
              "([1.8024155748701771,\n",
              "  0.28711703346691053,\n",
              "  0.0765539408424792,\n",
              "  0.04537536783940643,\n",
              "  0.038981604124619415,\n",
              "  0.036126185106677804,\n",
              "  0.03388200330398664,\n",
              "  0.03183903510449979,\n",
              "  0.029933528559321524,\n",
              "  0.02814978298580841,\n",
              "  0.026479124725516515,\n",
              "  0.02491425390528107,\n",
              "  0.0234484625085668,\n",
              "  0.02207547031343358,\n",
              "  0.020789403683732412,\n",
              "  0.01958475879160179,\n",
              "  0.018456384879817864,\n",
              "  0.017399449233219004,\n",
              "  0.01640942886929554,\n",
              "  0.015482089129960687,\n",
              "  0.014613460619448425,\n",
              "  0.013799826950869006,\n",
              "  0.01303770397222065,\n",
              "  0.01232383195018933,\n",
              "  0.011655156056562737,\n",
              "  0.011028814473843112,\n",
              "  0.01044212840838866,\n",
              "  0.009892584335918515,\n",
              "  0.00937783274516845,\n",
              "  0.008895671475481853,\n",
              "  0.008444037218733255,\n",
              "  0.008020996979898607,\n",
              "  0.007624739109305717,\n",
              "  0.007253568827958765,\n",
              "  0.006905895750538575,\n",
              "  0.0065802370748842785,\n",
              "  0.0062751964221935234,\n",
              "  0.0059894680929182525,\n",
              "  0.005721827801993293,\n",
              "  0.005471132678538384,\n",
              "  0.005236309211026186,\n",
              "  0.00501635269783411,\n",
              "  0.004810321851799423,\n",
              "  0.0046173353492618705,\n",
              "  0.004436566882002161,\n",
              "  0.004267243242592794,\n",
              "  0.004108639829629734,\n",
              "  0.003960077964838271,\n",
              "  0.003820921333885604,\n",
              "  0.0036905750098853653],\n",
              " tensor([1.7821], device='cuda:0', requires_grad=True),\n",
              " tensor([1.2158], device='cuda:0', requires_grad=True))"
            ]
          },
          "metadata": {},
          "execution_count": 29
        }
      ]
    },
    {
      "cell_type": "code",
      "source": [
        "import matplotlib.pyplot as plt\n",
        "plt.plot (range(epoch), losses)\n",
        "plt.show()"
      ],
      "metadata": {
        "colab": {
          "base_uri": "https://localhost:8080/",
          "height": 430
        },
        "id": "oZOQiSnNxnQk",
        "outputId": "999b6aeb-887d-46e7-bdcf-817c9bf692cc"
      },
      "execution_count": 30,
      "outputs": [
        {
          "output_type": "display_data",
          "data": {
            "text/plain": [
              "<Figure size 640x480 with 1 Axes>"
            ],
            "image/png": "[encoded data removed]"
          },
          "metadata": {}
        }
      ]
    },
    {
      "cell_type": "code",
      "source": [
        "import torch.nn as nn\n",
        "loss_fn = nn.MSELoss()\n",
        "loss = loss_fn(y_pred, y_tensor)"
      ],
      "metadata": {
        "id": "Fx68P9upxzr_"
      },
      "execution_count": 34,
      "outputs": []
    },
    {
      "cell_type": "code",
      "source": [
        "class ManualRegression(nn.Module):\n",
        "  def __init__(self):\n",
        "    super().__init__()\n",
        "    self.b = nn.Parameter(torch.randn(1, requires_grad=True, dtype= torch.float64))\n",
        "    self.w= nn.Parameter(torch.randn(1, requires_grad=True, dtype= torch.float64))\n",
        "\n",
        "  def forward(x):\n",
        "    return self.b + self.w * x"
      ],
      "metadata": {
        "id": "6Axh9LY735ux"
      },
      "execution_count": 40,
      "outputs": []
    },
    {
      "cell_type": "code",
      "source": [
        "torch.manual_seed(42)\n",
        "model = ManualRegression()\n",
        "\n",
        "list(model.parameters())\n",
        "model.state_dict()"
      ],
      "metadata": {
        "id": "UcuHoH6U59V_"
      },
      "execution_count": null,
      "outputs": []
    },
    {
      "cell_type": "code",
      "source": [
        "from torch import optim\n",
        "\n",
        "torch.manual_seed(42)\n",
        "\n",
        "losses=[]\n",
        "lr=0.5\n",
        "optimizer = optim.SGD([b,w], lr=lr)\n",
        "model = ManualRegression().to(device)\n",
        "loss_fn= nn.MSELoss()\n",
        "for _ in range(epoch):\n",
        "  model.train()\n",
        "  y_pred = model(x_tensor)\n",
        "  loss_fn(y_pred, y_tensor)\n",
        "  loss.backward()\n",
        "\n",
        "  optimizer.step()\n",
        "  optimizer.zero_grad()\n",
        "  losses.append(loss.detach().cpu().item())\n",
        "\n",
        "losses, w, b"
      ],
      "metadata": {
        "colab": {
          "base_uri": "https://localhost:8080/",
          "height": 211
        },
        "id": "sAGRziU37E7y",
        "outputId": "34ad9567-c7f8-40a3-f9aa-272c8edbd5b9"
      },
      "execution_count": 2,
      "outputs": [
        {
          "output_type": "error",
          "ename": "NameError",
          "evalue": "name 'torch' is not defined",
          "traceback": [
            "\u001b[0;31m---------------------------------------------------------------------------\u001b[0m",
            "\u001b[0;31mNameError\u001b[0m                                 Traceback (most recent call last)",
            "\u001b[0;32m<ipython-input-2-a9036c3a0080>\u001b[0m in \u001b[0;36m<cell line: 3>\u001b[0;34m()\u001b[0m\n\u001b[1;32m      1\u001b[0m \u001b[0;32mfrom\u001b[0m \u001b[0mtorch\u001b[0m \u001b[0;32mimport\u001b[0m \u001b[0moptim\u001b[0m\u001b[0;34m\u001b[0m\u001b[0;34m\u001b[0m\u001b[0m\n\u001b[1;32m      2\u001b[0m \u001b[0;34m\u001b[0m\u001b[0m\n\u001b[0;32m----> 3\u001b[0;31m \u001b[0mtorch\u001b[0m\u001b[0;34m.\u001b[0m\u001b[0mmanual_seed\u001b[0m\u001b[0;34m(\u001b[0m\u001b[0;36m42\u001b[0m\u001b[0;34m)\u001b[0m\u001b[0;34m\u001b[0m\u001b[0;34m\u001b[0m\u001b[0m\n\u001b[0m\u001b[1;32m      4\u001b[0m \u001b[0;34m\u001b[0m\u001b[0m\n\u001b[1;32m      5\u001b[0m \u001b[0mlosses\u001b[0m\u001b[0;34m=\u001b[0m\u001b[0;34m[\u001b[0m\u001b[0;34m]\u001b[0m\u001b[0;34m\u001b[0m\u001b[0;34m\u001b[0m\u001b[0m\n",
            "\u001b[0;31mNameError\u001b[0m: name 'torch' is not defined"
          ]
        }
      ]
    },
    {
      "cell_type": "code",
      "source": [
        "class ManualRegressionWithLayers(nn.Module):\n",
        "  def __init__(self):\n",
        "    super().__init__()\n",
        "    self.layer = nn.Linear(in_features=1, out_features=1, bias=True)\n",
        "\n",
        "  def forward(x):\n",
        "    return self.layer(x)"
      ],
      "metadata": {
        "colab": {
          "base_uri": "https://localhost:8080/",
          "height": 211
        },
        "id": "51403K5BBIs3",
        "outputId": "79e4aaff-dbe7-4c0e-e6c7-0d0449eb5c7e"
      },
      "execution_count": 4,
      "outputs": [
        {
          "output_type": "error",
          "ename": "NameError",
          "evalue": "name 'nn' is not defined",
          "traceback": [
            "\u001b[0;31m---------------------------------------------------------------------------\u001b[0m",
            "\u001b[0;31mNameError\u001b[0m                                 Traceback (most recent call last)",
            "\u001b[0;32m<ipython-input-4-9ca3d2dd16c8>\u001b[0m in \u001b[0;36m<cell line: 1>\u001b[0;34m()\u001b[0m\n\u001b[0;32m----> 1\u001b[0;31m \u001b[0;32mclass\u001b[0m \u001b[0mManualRegressionWithLayers\u001b[0m\u001b[0;34m(\u001b[0m\u001b[0mnn\u001b[0m\u001b[0;34m.\u001b[0m\u001b[0mModule\u001b[0m\u001b[0;34m)\u001b[0m\u001b[0;34m:\u001b[0m\u001b[0;34m\u001b[0m\u001b[0;34m\u001b[0m\u001b[0m\n\u001b[0m\u001b[1;32m      2\u001b[0m   \u001b[0;32mdef\u001b[0m \u001b[0m__init__\u001b[0m\u001b[0;34m(\u001b[0m\u001b[0mself\u001b[0m\u001b[0;34m)\u001b[0m\u001b[0;34m:\u001b[0m\u001b[0;34m\u001b[0m\u001b[0;34m\u001b[0m\u001b[0m\n\u001b[1;32m      3\u001b[0m     \u001b[0msuper\u001b[0m\u001b[0;34m(\u001b[0m\u001b[0;34m)\u001b[0m\u001b[0;34m.\u001b[0m\u001b[0m__init__\u001b[0m\u001b[0;34m(\u001b[0m\u001b[0;34m)\u001b[0m\u001b[0;34m\u001b[0m\u001b[0;34m\u001b[0m\u001b[0m\n\u001b[1;32m      4\u001b[0m     \u001b[0mself\u001b[0m\u001b[0;34m.\u001b[0m\u001b[0mlayer\u001b[0m \u001b[0;34m=\u001b[0m \u001b[0mnn\u001b[0m\u001b[0;34m.\u001b[0m\u001b[0mLinear\u001b[0m\u001b[0;34m(\u001b[0m\u001b[0min_features\u001b[0m\u001b[0;34m=\u001b[0m\u001b[0;36m1\u001b[0m\u001b[0;34m,\u001b[0m \u001b[0mout_features\u001b[0m\u001b[0;34m=\u001b[0m\u001b[0;36m1\u001b[0m\u001b[0;34m,\u001b[0m \u001b[0mbias\u001b[0m\u001b[0;34m=\u001b[0m\u001b[0;32mTrue\u001b[0m\u001b[0;34m)\u001b[0m\u001b[0;34m\u001b[0m\u001b[0;34m\u001b[0m\u001b[0m\n\u001b[1;32m      5\u001b[0m \u001b[0;34m\u001b[0m\u001b[0m\n",
            "\u001b[0;31mNameError\u001b[0m: name 'nn' is not defined"
          ]
        }
      ]
    },
    {
      "cell_type": "code",
      "source": [
        "from torch import optim\n",
        "\n",
        "torch.manual_seed(42)\n",
        "\n",
        "losses=[]\n",
        "lr=0.5\n",
        "model = ManualRegressionWithLayers().to(device)\n",
        "optimizer = optim.SGD(model.parameters, lr=lr)\n",
        "loss_fn= nn.MSELoss()\n",
        "for _ in range(epoch):\n",
        "  model.train()\n",
        "  y_pred = model(x_tensor)\n",
        "  loss_fn(y_pred, y_tensor)\n",
        "  loss.backward()\n",
        "\n",
        "  optimizer.step()\n",
        "  optimizer.zero_grad()\n",
        "  losses.append(loss.detach().cpu().item())\n",
        "\n",
        "losses, w, b"
      ],
      "metadata": {
        "id": "uNousRyaBwRO"
      },
      "execution_count": null,
      "outputs": []
    }
  ]
}