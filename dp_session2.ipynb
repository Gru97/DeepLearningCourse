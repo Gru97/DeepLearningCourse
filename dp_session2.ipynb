{
  "nbformat": 4,
  "nbformat_minor": 0,
  "metadata": {
    "colab": {
      "provenance": [],
      "gpuType": "T4",
      "authorship_tag": "ABX9TyPXRR/pc+0PdbE/ls7nrj40",
      "include_colab_link": true
    },
    "kernelspec": {
      "name": "python3",
      "display_name": "Python 3"
    },
    "language_info": {
      "name": "python"
    },
    "accelerator": "GPU"
  },
  "cells": [
    {
      "cell_type": "markdown",
      "metadata": {
        "id": "view-in-github",
        "colab_type": "text"
      },
      "source": [
        "<a href=\"https://colab.research.google.com/github/Gru97/DeepLearningCourse/blob/main/dp_session2.ipynb\" target=\"_parent\"><img src=\"https://colab.research.google.com/assets/colab-badge.svg\" alt=\"Open In Colab\"/></a>"
      ]
    },
    {
      "cell_type": "code",
      "execution_count": 47,
      "metadata": {
        "colab": {
          "base_uri": "https://localhost:8080/"
        },
        "id": "1fwCchPChlUV",
        "outputId": "d089727f-fc69-499f-f298-c6ad645a0c9a"
      },
      "outputs": [
        {
          "output_type": "execute_result",
          "data": {
            "text/plain": [
              "(200, 1)"
            ]
          },
          "metadata": {},
          "execution_count": 47
        }
      ],
      "source": [
        "import numpy as np\n",
        "x= np.random.rand(200,1)\n",
        "e=np.random.rand(200,1)*.2\n",
        "true_b=1\n",
        "true_w=2\n",
        "y=true_b+ true_w*x+e\n",
        "y.shape\n"
      ]
    },
    {
      "cell_type": "code",
      "source": [
        "import torch\n",
        "x_tensor= torch.tensor(x)\n",
        "y_tensor= torch.tensor(y)"
      ],
      "metadata": {
        "id": "4rKu5yUaiSYy"
      },
      "execution_count": 48,
      "outputs": []
    },
    {
      "cell_type": "code",
      "source": [
        "print(x_tensor.device)\n",
        "device='cuda' if torch.cuda.is_available else 'cpu'\n",
        "print(device)\n",
        "x_tensor = x_tensor.to(device)\n",
        "x_tensor.device\n",
        "\n",
        "y_tensor=y_tensor.to(device)"
      ],
      "metadata": {
        "colab": {
          "base_uri": "https://localhost:8080/"
        },
        "id": "YJOU5VpdjyK7",
        "outputId": "19904baf-7f72-4fb2-b23a-c739c1e48029"
      },
      "execution_count": 49,
      "outputs": [
        {
          "output_type": "stream",
          "name": "stdout",
          "text": [
            "cpu\n",
            "cuda\n"
          ]
        }
      ]
    },
    {
      "cell_type": "code",
      "source": [
        "torch.manual_seed(42)\n",
        "b= torch.randn(1, requires_grad=True, device= device)\n",
        "w=torch.randn(1, requires_grad=True, device= device)\n",
        "b,w"
      ],
      "metadata": {
        "colab": {
          "base_uri": "https://localhost:8080/"
        },
        "id": "b0XAGM7cmJk5",
        "outputId": "470a34a7-9e69-410d-d9cf-d07a6a08a9c5"
      },
      "execution_count": 50,
      "outputs": [
        {
          "output_type": "execute_result",
          "data": {
            "text/plain": [
              "(tensor([0.1940], device='cuda:0', requires_grad=True),\n",
              " tensor([0.1391], device='cuda:0', requires_grad=True))"
            ]
          },
          "metadata": {},
          "execution_count": 50
        }
      ]
    },
    {
      "cell_type": "code",
      "source": [
        "y_pred= b+w*x_tensor\n",
        "error = y_pred-y_tensor\n",
        "loss= 0.5*(error**2).mean()\n",
        "loss.backward()\n",
        "w.grad, b.grad"
      ],
      "metadata": {
        "colab": {
          "base_uri": "https://localhost:8080/"
        },
        "id": "2h8vIsQMo215",
        "outputId": "b70a015a-d0f7-4269-d7e7-0b1a8d6a917f"
      },
      "execution_count": 51,
      "outputs": [
        {
          "output_type": "execute_result",
          "data": {
            "text/plain": [
              "(tensor([-0.9698], device='cuda:0'), tensor([-1.7572], device='cuda:0'))"
            ]
          },
          "metadata": {},
          "execution_count": 51
        }
      ]
    },
    {
      "cell_type": "code",
      "source": [
        "lr=0.5\n",
        "\n",
        "with torch.no_grad():\n",
        "  w -= lr * w.grad\n",
        "  b -= b-lr * b.grad\n",
        "w.grad.zero_()\n",
        "b.grad.zero_()"
      ],
      "metadata": {
        "colab": {
          "base_uri": "https://localhost:8080/"
        },
        "id": "W0XSUo6osRyD",
        "outputId": "96db9b9d-b991-421e-96f6-10832e8c4a53"
      },
      "execution_count": 52,
      "outputs": [
        {
          "output_type": "execute_result",
          "data": {
            "text/plain": [
              "tensor([0.], device='cuda:0')"
            ]
          },
          "metadata": {},
          "execution_count": 52
        }
      ]
    },
    {
      "cell_type": "code",
      "source": [
        "loss.detach().cpu().item()\n"
      ],
      "metadata": {
        "colab": {
          "base_uri": "https://localhost:8080/"
        },
        "id": "RXySwzNcsVPy",
        "outputId": "24327318-35b0-4825-b321-5f2fda6f34cc"
      },
      "execution_count": 53,
      "outputs": [
        {
          "output_type": "execute_result",
          "data": {
            "text/plain": [
              "1.6985090193118424"
            ]
          },
          "metadata": {},
          "execution_count": 53
        }
      ]
    },
    {
      "cell_type": "code",
      "source": [
        "!pip install torchviz\n",
        "!pip install graphviz"
      ],
      "metadata": {
        "colab": {
          "base_uri": "https://localhost:8080/"
        },
        "id": "ftm7SEYgzQTD",
        "outputId": "169a100a-f61b-41ca-aa21-2b8f971c09fe"
      },
      "execution_count": 54,
      "outputs": [
        {
          "output_type": "stream",
          "name": "stdout",
          "text": [
            "Requirement already satisfied: torchviz in /usr/local/lib/python3.10/dist-packages (0.0.2)\n",
            "Requirement already satisfied: torch in /usr/local/lib/python3.10/dist-packages (from torchviz) (2.5.0+cu121)\n",
            "Requirement already satisfied: graphviz in /usr/local/lib/python3.10/dist-packages (from torchviz) (0.20.3)\n",
            "Requirement already satisfied: filelock in /usr/local/lib/python3.10/dist-packages (from torch->torchviz) (3.16.1)\n",
            "Requirement already satisfied: typing-extensions>=4.8.0 in /usr/local/lib/python3.10/dist-packages (from torch->torchviz) (4.12.2)\n",
            "Requirement already satisfied: networkx in /usr/local/lib/python3.10/dist-packages (from torch->torchviz) (3.4.2)\n",
            "Requirement already satisfied: jinja2 in /usr/local/lib/python3.10/dist-packages (from torch->torchviz) (3.1.4)\n",
            "Requirement already satisfied: fsspec in /usr/local/lib/python3.10/dist-packages (from torch->torchviz) (2024.10.0)\n",
            "Requirement already satisfied: sympy==1.13.1 in /usr/local/lib/python3.10/dist-packages (from torch->torchviz) (1.13.1)\n",
            "Requirement already satisfied: mpmath<1.4,>=1.1.0 in /usr/local/lib/python3.10/dist-packages (from sympy==1.13.1->torch->torchviz) (1.3.0)\n",
            "Requirement already satisfied: MarkupSafe>=2.0 in /usr/local/lib/python3.10/dist-packages (from jinja2->torch->torchviz) (3.0.2)\n",
            "Requirement already satisfied: graphviz in /usr/local/lib/python3.10/dist-packages (0.20.3)\n"
          ]
        }
      ]
    },
    {
      "cell_type": "code",
      "source": [
        "from torchviz import make_dot\n",
        "make_dot(loss)"
      ],
      "metadata": {
        "colab": {
          "base_uri": "https://localhost:8080/",
          "height": 692
        },
        "id": "Of0HSDOtzp7U",
        "outputId": "58e0e1a4-8347-4198-b567-6e06b386109b"
      },
      "execution_count": 55,
      "outputs": [
        {
          "output_type": "execute_result",
          "data": {
            "image/svg+xml": "<?xml version=\"1.0\" encoding=\"UTF-8\" standalone=\"no\"?>\n<!DOCTYPE svg PUBLIC \"-//W3C//DTD SVG 1.1//EN\"\n \"http://www.w3.org/Graphics/SVG/1.1/DTD/svg11.dtd\">\n<!-- Generated by graphviz version 2.43.0 (0)\n -->\n<!-- Title: %3 Pages: 1 -->\n<svg width=\"222pt\" height=\"503pt\"\n viewBox=\"0.00 0.00 222.00 503.00\" xmlns=\"http://www.w3.org/2000/svg\" xmlns:xlink=\"http://www.w3.org/1999/xlink\">\n<g id=\"graph0\" class=\"graph\" transform=\"scale(1 1) rotate(0) translate(4 499)\">\n<title>%3</title>\n<polygon fill=\"white\" stroke=\"transparent\" points=\"-4,4 -4,-499 218,-499 218,4 -4,4\"/>\n<!-- 137195989433488 -->\n<g id=\"node1\" class=\"node\">\n<title>137195989433488</title>\n<polygon fill=\"#caff70\" stroke=\"black\" points=\"133.5,-31 79.5,-31 79.5,0 133.5,0 133.5,-31\"/>\n<text text-anchor=\"middle\" x=\"106.5\" y=\"-7\" font-family=\"monospace\" font-size=\"10.00\"> ()</text>\n</g>\n<!-- 137196079585488 -->\n<g id=\"node2\" class=\"node\">\n<title>137196079585488</title>\n<polygon fill=\"lightgrey\" stroke=\"black\" points=\"151,-86 62,-86 62,-67 151,-67 151,-86\"/>\n<text text-anchor=\"middle\" x=\"106.5\" y=\"-74\" font-family=\"monospace\" font-size=\"10.00\">MulBackward0</text>\n</g>\n<!-- 137196079585488&#45;&gt;137195989433488 -->\n<g id=\"edge10\" class=\"edge\">\n<title>137196079585488&#45;&gt;137195989433488</title>\n<path fill=\"none\" stroke=\"black\" d=\"M106.5,-66.79C106.5,-60.07 106.5,-50.4 106.5,-41.34\"/>\n<polygon fill=\"black\" stroke=\"black\" points=\"110,-41.19 106.5,-31.19 103,-41.19 110,-41.19\"/>\n</g>\n<!-- 137196079583328 -->\n<g id=\"node3\" class=\"node\">\n<title>137196079583328</title>\n<polygon fill=\"lightgrey\" stroke=\"black\" points=\"154,-141 59,-141 59,-122 154,-122 154,-141\"/>\n<text text-anchor=\"middle\" x=\"106.5\" y=\"-129\" font-family=\"monospace\" font-size=\"10.00\">MeanBackward0</text>\n</g>\n<!-- 137196079583328&#45;&gt;137196079585488 -->\n<g id=\"edge1\" class=\"edge\">\n<title>137196079583328&#45;&gt;137196079585488</title>\n<path fill=\"none\" stroke=\"black\" d=\"M106.5,-121.75C106.5,-114.8 106.5,-104.85 106.5,-96.13\"/>\n<polygon fill=\"black\" stroke=\"black\" points=\"110,-96.09 106.5,-86.09 103,-96.09 110,-96.09\"/>\n</g>\n<!-- 137196079589328 -->\n<g id=\"node4\" class=\"node\">\n<title>137196079589328</title>\n<polygon fill=\"lightgrey\" stroke=\"black\" points=\"151,-196 62,-196 62,-177 151,-177 151,-196\"/>\n<text text-anchor=\"middle\" x=\"106.5\" y=\"-184\" font-family=\"monospace\" font-size=\"10.00\">PowBackward0</text>\n</g>\n<!-- 137196079589328&#45;&gt;137196079583328 -->\n<g id=\"edge2\" class=\"edge\">\n<title>137196079589328&#45;&gt;137196079583328</title>\n<path fill=\"none\" stroke=\"black\" d=\"M106.5,-176.75C106.5,-169.8 106.5,-159.85 106.5,-151.13\"/>\n<polygon fill=\"black\" stroke=\"black\" points=\"110,-151.09 106.5,-141.09 103,-151.09 110,-151.09\"/>\n</g>\n<!-- 137196079587504 -->\n<g id=\"node5\" class=\"node\">\n<title>137196079587504</title>\n<polygon fill=\"lightgrey\" stroke=\"black\" points=\"151,-251 62,-251 62,-232 151,-232 151,-251\"/>\n<text text-anchor=\"middle\" x=\"106.5\" y=\"-239\" font-family=\"monospace\" font-size=\"10.00\">SubBackward0</text>\n</g>\n<!-- 137196079587504&#45;&gt;137196079589328 -->\n<g id=\"edge3\" class=\"edge\">\n<title>137196079587504&#45;&gt;137196079589328</title>\n<path fill=\"none\" stroke=\"black\" d=\"M106.5,-231.75C106.5,-224.8 106.5,-214.85 106.5,-206.13\"/>\n<polygon fill=\"black\" stroke=\"black\" points=\"110,-206.09 106.5,-196.09 103,-206.09 110,-206.09\"/>\n</g>\n<!-- 137196079582992 -->\n<g id=\"node6\" class=\"node\">\n<title>137196079582992</title>\n<polygon fill=\"lightgrey\" stroke=\"black\" points=\"151,-306 62,-306 62,-287 151,-287 151,-306\"/>\n<text text-anchor=\"middle\" x=\"106.5\" y=\"-294\" font-family=\"monospace\" font-size=\"10.00\">AddBackward0</text>\n</g>\n<!-- 137196079582992&#45;&gt;137196079587504 -->\n<g id=\"edge4\" class=\"edge\">\n<title>137196079582992&#45;&gt;137196079587504</title>\n<path fill=\"none\" stroke=\"black\" d=\"M106.5,-286.75C106.5,-279.8 106.5,-269.85 106.5,-261.13\"/>\n<polygon fill=\"black\" stroke=\"black\" points=\"110,-261.09 106.5,-251.09 103,-261.09 110,-261.09\"/>\n</g>\n<!-- 137196079594608 -->\n<g id=\"node7\" class=\"node\">\n<title>137196079594608</title>\n<polygon fill=\"lightgrey\" stroke=\"black\" points=\"101,-361 0,-361 0,-342 101,-342 101,-361\"/>\n<text text-anchor=\"middle\" x=\"50.5\" y=\"-349\" font-family=\"monospace\" font-size=\"10.00\">AccumulateGrad</text>\n</g>\n<!-- 137196079594608&#45;&gt;137196079582992 -->\n<g id=\"edge5\" class=\"edge\">\n<title>137196079594608&#45;&gt;137196079582992</title>\n<path fill=\"none\" stroke=\"black\" d=\"M59.5,-341.98C67.69,-334.23 80.01,-322.58 89.97,-313.14\"/>\n<polygon fill=\"black\" stroke=\"black\" points=\"92.48,-315.59 97.34,-306.17 87.67,-310.5 92.48,-315.59\"/>\n</g>\n<!-- 137196016203504 -->\n<g id=\"node8\" class=\"node\">\n<title>137196016203504</title>\n<polygon fill=\"lightblue\" stroke=\"black\" points=\"77.5,-428 23.5,-428 23.5,-397 77.5,-397 77.5,-428\"/>\n<text text-anchor=\"middle\" x=\"50.5\" y=\"-404\" font-family=\"monospace\" font-size=\"10.00\"> (1)</text>\n</g>\n<!-- 137196016203504&#45;&gt;137196079594608 -->\n<g id=\"edge6\" class=\"edge\">\n<title>137196016203504&#45;&gt;137196079594608</title>\n<path fill=\"none\" stroke=\"black\" d=\"M50.5,-396.92C50.5,-389.22 50.5,-379.69 50.5,-371.43\"/>\n<polygon fill=\"black\" stroke=\"black\" points=\"54,-371.25 50.5,-361.25 47,-371.25 54,-371.25\"/>\n</g>\n<!-- 137196079584144 -->\n<g id=\"node9\" class=\"node\">\n<title>137196079584144</title>\n<polygon fill=\"lightgrey\" stroke=\"black\" points=\"208,-361 119,-361 119,-342 208,-342 208,-361\"/>\n<text text-anchor=\"middle\" x=\"163.5\" y=\"-349\" font-family=\"monospace\" font-size=\"10.00\">MulBackward0</text>\n</g>\n<!-- 137196079584144&#45;&gt;137196079582992 -->\n<g id=\"edge7\" class=\"edge\">\n<title>137196079584144&#45;&gt;137196079582992</title>\n<path fill=\"none\" stroke=\"black\" d=\"M154.34,-341.98C146,-334.23 133.47,-322.58 123.32,-313.14\"/>\n<polygon fill=\"black\" stroke=\"black\" points=\"125.53,-310.42 115.82,-306.17 120.76,-315.54 125.53,-310.42\"/>\n</g>\n<!-- 137196079593120 -->\n<g id=\"node10\" class=\"node\">\n<title>137196079593120</title>\n<polygon fill=\"lightgrey\" stroke=\"black\" points=\"214,-422 113,-422 113,-403 214,-403 214,-422\"/>\n<text text-anchor=\"middle\" x=\"163.5\" y=\"-410\" font-family=\"monospace\" font-size=\"10.00\">AccumulateGrad</text>\n</g>\n<!-- 137196079593120&#45;&gt;137196079584144 -->\n<g id=\"edge8\" class=\"edge\">\n<title>137196079593120&#45;&gt;137196079584144</title>\n<path fill=\"none\" stroke=\"black\" d=\"M163.5,-402.79C163.5,-394.6 163.5,-382.06 163.5,-371.55\"/>\n<polygon fill=\"black\" stroke=\"black\" points=\"167,-371.24 163.5,-361.24 160,-371.24 167,-371.24\"/>\n</g>\n<!-- 137195990620800 -->\n<g id=\"node11\" class=\"node\">\n<title>137195990620800</title>\n<polygon fill=\"lightblue\" stroke=\"black\" points=\"190.5,-495 136.5,-495 136.5,-464 190.5,-464 190.5,-495\"/>\n<text text-anchor=\"middle\" x=\"163.5\" y=\"-471\" font-family=\"monospace\" font-size=\"10.00\"> (1)</text>\n</g>\n<!-- 137195990620800&#45;&gt;137196079593120 -->\n<g id=\"edge9\" class=\"edge\">\n<title>137195990620800&#45;&gt;137196079593120</title>\n<path fill=\"none\" stroke=\"black\" d=\"M163.5,-463.75C163.5,-454.39 163.5,-442.19 163.5,-432.16\"/>\n<polygon fill=\"black\" stroke=\"black\" points=\"167,-432.02 163.5,-422.02 160,-432.02 167,-432.02\"/>\n</g>\n</g>\n</svg>\n",
            "text/plain": [
              "<graphviz.graphs.Digraph at 0x7cc77396b790>"
            ]
          },
          "metadata": {},
          "execution_count": 55
        }
      ]
    },
    {
      "cell_type": "code",
      "source": [
        "#with loop\n",
        "torch.manual_seed(42)\n",
        "b= torch.randn(1, requires_grad=True, device= device)\n",
        "w=torch.randn(1, requires_grad=True, device= device)\n",
        "b,w\n",
        "\n",
        "losses=[]\n",
        "epoch=50\n",
        "for _ in range(epoch):\n",
        "  y_pred= b + w* x_tensor\n",
        "  error = y_pred - y_tensor\n",
        "  loss = lr*(error**2).mean()\n",
        "  loss.backward()\n",
        "\n",
        "  with torch.no_grad():\n",
        "    w -= lr * w.grad\n",
        "    b -= lr * b.grad\n",
        "\n",
        "  w.grad.zero_()\n",
        "  b.grad.zero_()\n",
        "  losses.append(loss.detach().cpu().item())"
      ],
      "metadata": {
        "id": "2aHNm1ujg5w3"
      },
      "execution_count": 56,
      "outputs": []
    },
    {
      "cell_type": "code",
      "source": [
        "losses"
      ],
      "metadata": {
        "colab": {
          "base_uri": "https://localhost:8080/"
        },
        "id": "2qw1z7emkan2",
        "outputId": "0cde1357-3c98-4a8f-dba1-85d9b5cfd7e2"
      },
      "execution_count": null,
      "outputs": [
        {
          "output_type": "execute_result",
          "data": {
            "text/plain": [
              "[1.8024155748701771,\n",
              " 0.28711703346691053,\n",
              " 0.0765539408424792,\n",
              " 0.04537536783940643,\n",
              " 0.038981604124619415,\n",
              " 0.036126185106677804,\n",
              " 0.03388200330398664,\n",
              " 0.03183903510449979,\n",
              " 0.029933528559321524,\n",
              " 0.02814978298580841,\n",
              " 0.026479124725516515,\n",
              " 0.02491425390528107,\n",
              " 0.0234484625085668,\n",
              " 0.02207547031343358,\n",
              " 0.020789403683732412,\n",
              " 0.01958475879160179,\n",
              " 0.018456384879817864,\n",
              " 0.017399449233219004,\n",
              " 0.01640942886929554,\n",
              " 0.015482089129960687,\n",
              " 0.014613460619448425,\n",
              " 0.013799826950869006,\n",
              " 0.01303770397222065,\n",
              " 0.01232383195018933,\n",
              " 0.011655156056562737,\n",
              " 0.011028814473843112,\n",
              " 0.01044212840838866,\n",
              " 0.009892584335918515,\n",
              " 0.00937783274516845,\n",
              " 0.008895671475481853,\n",
              " 0.008444037218733255,\n",
              " 0.008020996979898607,\n",
              " 0.007624739109305717,\n",
              " 0.007253568827958765,\n",
              " 0.006905895750538575,\n",
              " 0.0065802370748842785,\n",
              " 0.0062751964221935234,\n",
              " 0.0059894680929182525,\n",
              " 0.005721827801993293,\n",
              " 0.005471132678538384,\n",
              " 0.005236309211026186,\n",
              " 0.00501635269783411,\n",
              " 0.004810321851799423,\n",
              " 0.0046173353492618705,\n",
              " 0.004436566882002161,\n",
              " 0.004267243242592794,\n",
              " 0.004108639829629734,\n",
              " 0.003960077964838271,\n",
              " 0.003820921333885604,\n",
              " 0.0036905750098853653]"
            ]
          },
          "metadata": {},
          "execution_count": 23
        }
      ]
    },
    {
      "cell_type": "code",
      "source": [
        "w, b"
      ],
      "metadata": {
        "colab": {
          "base_uri": "https://localhost:8080/"
        },
        "id": "tOI3dJCHkg78",
        "outputId": "3a2bc85a-8e99-4d81-f31f-1c7bc2019335"
      },
      "execution_count": null,
      "outputs": [
        {
          "output_type": "execute_result",
          "data": {
            "text/plain": [
              "(tensor([1.7821], device='cuda:0', requires_grad=True),\n",
              " tensor([1.2158], device='cuda:0', requires_grad=True))"
            ]
          },
          "metadata": {},
          "execution_count": 24
        }
      ]
    },
    {
      "cell_type": "code",
      "source": [
        "from torch import optim\n",
        "\n",
        "torch.manual_seed(42)\n",
        "b= torch.randn(1, requires_grad=True, device = device)\n",
        "w= torch.randn(1, requires_grad=  True, device= device)\n",
        "losses=[]\n",
        "lr=0.5\n",
        "optimizer = optim.SGD([b,w], lr=lr)\n",
        "\n",
        "for _ in range(epoch):\n",
        "  y_pred= b + w*x_tensor\n",
        "  error= y_pred - y_tensor\n",
        "  loss = 0.5*(error**2).mean()\n",
        "  loss.backward()\n",
        "\n",
        "  optimizer.step()\n",
        "  optimizer.zero_grad()\n",
        "  losses.append(loss.detach().cpu().item())\n",
        "\n",
        "losses, w, b"
      ],
      "metadata": {
        "colab": {
          "base_uri": "https://localhost:8080/"
        },
        "id": "-k6CK4wgk0Kd",
        "outputId": "4923e54f-f4d2-4d5f-eb90-fed9ccb61787"
      },
      "execution_count": 57,
      "outputs": [
        {
          "output_type": "execute_result",
          "data": {
            "text/plain": [
              "([1.6985090193118424,\n",
              "  0.3007105164102581,\n",
              "  0.08834615867324308,\n",
              "  0.05359615004049804,\n",
              "  0.04563457675202843,\n",
              "  0.04187700335187555,\n",
              "  0.03893008613386072,\n",
              "  0.03627318650694855,\n",
              "  0.03381647258319288,\n",
              "  0.03153540079782281,\n",
              "  0.029415990220457284,\n",
              "  0.027446577710497203,\n",
              "  0.02561650607387027,\n",
              "  0.02391592146715842,\n",
              "  0.02233565589623871,\n",
              "  0.020867199043142336,\n",
              "  0.01950263567362694,\n",
              "  0.01823461938056908,\n",
              "  0.017056315760766366,\n",
              "  0.01596138370930839,\n",
              "  0.0149439179081953,\n",
              "  0.013998441607020809,\n",
              "  0.013119861452905546,\n",
              "  0.012303442508368607,\n",
              "  0.011544784458829654,\n",
              "  0.010839801314975502,\n",
              "  0.010184700112452965,\n",
              "  0.009575950072267083,\n",
              "  0.00901026751211658,\n",
              "  0.008484611412286264,\n",
              "  0.007996143444416445,\n",
              "  0.007542237684191039,\n",
              "  0.007120447037371116,\n",
              "  0.006728497965427588,\n",
              "  0.0063642787634467625,\n",
              "  0.006025830093762066,\n",
              "  0.005711326662987872,\n",
              "  0.005419075023550184,\n",
              "  0.005147500860032555,\n",
              "  0.004895142325354963,\n",
              "  0.00466063785512582,\n",
              "  0.004442726366329656,\n",
              "  0.004240231748544511,\n",
              "  0.004052063667851353,\n",
              "  0.003877208682502294,\n",
              "  0.00371472513898247,\n",
              "  0.0035637392418576643,\n",
              "  0.0034234343422606117,\n",
              "  0.003293057680531724,\n",
              "  0.0031719041365086222],\n",
              " tensor([1.8189], device='cuda:0', requires_grad=True),\n",
              " tensor([1.1878], device='cuda:0', requires_grad=True))"
            ]
          },
          "metadata": {},
          "execution_count": 57
        }
      ]
    },
    {
      "cell_type": "code",
      "source": [
        "import matplotlib.pyplot as plt\n",
        "plt.plot (range(epoch), losses)\n",
        "plt.show()"
      ],
      "metadata": {
        "colab": {
          "base_uri": "https://localhost:8080/",
          "height": 430
        },
        "id": "oZOQiSnNxnQk",
        "outputId": "10210a76-8849-4bf4-82da-ea867aa12a24"
      },
      "execution_count": 58,
      "outputs": [
        {
          "output_type": "display_data",
          "data": {
            "text/plain": [
              "<Figure size 640x480 with 1 Axes>"
            ],
            "image/png": "[encoded data removed]"
          },
          "metadata": {}
        }
      ]
    },
    {
      "cell_type": "code",
      "source": [
        "import torch.nn as nn\n",
        "loss_fn = nn.MSELoss()\n",
        "loss = loss_fn(y_pred, y_tensor)\n",
        "loss"
      ],
      "metadata": {
        "id": "Fx68P9upxzr_",
        "colab": {
          "base_uri": "https://localhost:8080/"
        },
        "outputId": "b293ef4f-1fac-4816-c1f4-83ae38e0b0af"
      },
      "execution_count": 61,
      "outputs": [
        {
          "output_type": "execute_result",
          "data": {
            "text/plain": [
              "tensor(0.0063, device='cuda:0', dtype=torch.float64,\n",
              "       grad_fn=<MseLossBackward0>)"
            ]
          },
          "metadata": {},
          "execution_count": 61
        }
      ]
    },
    {
      "cell_type": "code",
      "source": [
        "class ManualRegression(nn.Module):\n",
        "  def __init__(self):\n",
        "    super().__init__()\n",
        "    self.b = nn.Parameter(torch.randn(1, requires_grad=True, dtype= torch.float64))\n",
        "    self.w= nn.Parameter(torch.randn(1, requires_grad=True, dtype= torch.float64))\n",
        "\n",
        "  def forward(self, x):\n",
        "    return self.b + self.w * x"
      ],
      "metadata": {
        "id": "6Axh9LY735ux"
      },
      "execution_count": 62,
      "outputs": []
    },
    {
      "cell_type": "code",
      "source": [
        "torch.manual_seed(42)\n",
        "model = ManualRegression()\n",
        "\n",
        "list(model.parameters())\n",
        "model.state_dict()"
      ],
      "metadata": {
        "id": "UcuHoH6U59V_",
        "colab": {
          "base_uri": "https://localhost:8080/"
        },
        "outputId": "a590d8a7-ed2c-42be-abff-e118f73059eb"
      },
      "execution_count": 63,
      "outputs": [
        {
          "output_type": "execute_result",
          "data": {
            "text/plain": [
              "OrderedDict([('b', tensor([0.3367], dtype=torch.float64)),\n",
              "             ('w', tensor([0.1288], dtype=torch.float64))])"
            ]
          },
          "metadata": {},
          "execution_count": 63
        }
      ]
    },
    {
      "cell_type": "code",
      "source": [
        "from torch import optim\n",
        "\n",
        "torch.manual_seed(42)\n",
        "\n",
        "losses=[]\n",
        "lr=0.5\n",
        "optimizer = optim.SGD([b,w], lr=lr)\n",
        "model = ManualRegression().to(device)\n",
        "loss_fn= nn.MSELoss()\n",
        "for _ in range(epoch):\n",
        "  model.train()\n",
        "  y_pred = model(x_tensor)\n",
        "  loss= loss_fn(y_pred, y_tensor)\n",
        "  loss.backward()\n",
        "\n",
        "  optimizer.step()\n",
        "  optimizer.zero_grad()\n",
        "  losses.append(loss.detach().cpu().item())\n",
        "\n",
        "losses, w, b"
      ],
      "metadata": {
        "colab": {
          "base_uri": "https://localhost:8080/"
        },
        "id": "sAGRziU37E7y",
        "outputId": "d0819578-6430-42a6-ddec-0b522c5955c9"
      },
      "execution_count": 64,
      "outputs": [
        {
          "output_type": "execute_result",
          "data": {
            "text/plain": [
              "([2.93468523684997,\n",
              "  2.93468523684997,\n",
              "  2.93468523684997,\n",
              "  2.93468523684997,\n",
              "  2.93468523684997,\n",
              "  2.93468523684997,\n",
              "  2.93468523684997,\n",
              "  2.93468523684997,\n",
              "  2.93468523684997,\n",
              "  2.93468523684997,\n",
              "  2.93468523684997,\n",
              "  2.93468523684997,\n",
              "  2.93468523684997,\n",
              "  2.93468523684997,\n",
              "  2.93468523684997,\n",
              "  2.93468523684997,\n",
              "  2.93468523684997,\n",
              "  2.93468523684997,\n",
              "  2.93468523684997,\n",
              "  2.93468523684997,\n",
              "  2.93468523684997,\n",
              "  2.93468523684997,\n",
              "  2.93468523684997,\n",
              "  2.93468523684997,\n",
              "  2.93468523684997,\n",
              "  2.93468523684997,\n",
              "  2.93468523684997,\n",
              "  2.93468523684997,\n",
              "  2.93468523684997,\n",
              "  2.93468523684997,\n",
              "  2.93468523684997,\n",
              "  2.93468523684997,\n",
              "  2.93468523684997,\n",
              "  2.93468523684997,\n",
              "  2.93468523684997,\n",
              "  2.93468523684997,\n",
              "  2.93468523684997,\n",
              "  2.93468523684997,\n",
              "  2.93468523684997,\n",
              "  2.93468523684997,\n",
              "  2.93468523684997,\n",
              "  2.93468523684997,\n",
              "  2.93468523684997,\n",
              "  2.93468523684997,\n",
              "  2.93468523684997,\n",
              "  2.93468523684997,\n",
              "  2.93468523684997,\n",
              "  2.93468523684997,\n",
              "  2.93468523684997,\n",
              "  2.93468523684997],\n",
              " tensor([1.8189], device='cuda:0', requires_grad=True),\n",
              " tensor([1.1878], device='cuda:0', requires_grad=True))"
            ]
          },
          "metadata": {},
          "execution_count": 64
        }
      ]
    },
    {
      "cell_type": "code",
      "source": [
        "class ManualRegressionWithLayers(nn.Module):\n",
        "  def __init__(self):\n",
        "    super().__init__()\n",
        "    self.layer = nn.Linear(in_features=1, out_features=1, bias=True, dtype=torch.float64)\n",
        "\n",
        "  def forward(self, x):\n",
        "    return self.layer(x)"
      ],
      "metadata": {
        "id": "51403K5BBIs3"
      },
      "execution_count": 67,
      "outputs": []
    },
    {
      "cell_type": "code",
      "source": [
        "from torch import optim\n",
        "\n",
        "torch.manual_seed(42)\n",
        "\n",
        "losses=[]\n",
        "lr=0.5\n",
        "model = ManualRegressionWithLayers().to(device)\n",
        "optimizer = optim.SGD(model.parameters(), lr=lr)\n",
        "loss_fn= nn.MSELoss()\n",
        "for _ in range(epoch):\n",
        "  model.train()\n",
        "  y_pred = model(x_tensor)\n",
        "  loss= loss_fn(y_pred, y_tensor)\n",
        "  loss.backward()\n",
        "\n",
        "  optimizer.step()\n",
        "  optimizer.zero_grad()\n",
        "  losses.append(loss.detach().cpu().item())\n",
        "\n",
        "losses, w, b"
      ],
      "metadata": {
        "id": "uNousRyaBwRO",
        "colab": {
          "base_uri": "https://localhost:8080/"
        },
        "outputId": "67bb6781-f59e-4824-da10-ea7649354c50"
      },
      "execution_count": 69,
      "outputs": [
        {
          "output_type": "execute_result",
          "data": {
            "text/plain": [
              "([11.589519037806333,\n",
              "  0.7678616541482194,\n",
              "  0.1897234331560608,\n",
              "  0.13963351825878353,\n",
              "  0.11943793628422827,\n",
              "  0.10322266314216316,\n",
              "  0.08932002401653981,\n",
              "  0.07735166704793107,\n",
              "  0.06704597803215681,\n",
              "  0.0581718479133324,\n",
              "  0.05053041289839368,\n",
              "  0.043950440407050415,\n",
              "  0.03828448394290511,\n",
              "  0.0334055786432824,\n",
              "  0.029204396182108454,\n",
              "  0.025586794898998573,\n",
              "  0.022471710237833478,\n",
              "  0.019789338222008606,\n",
              "  0.017479571260943332,\n",
              "  0.015490651236817539,\n",
              "  0.013778009689401818,\n",
              "  0.012303269109411059,\n",
              "  0.011033382960991264,\n",
              "  0.009939895162643311,\n",
              "  0.008998302432756658,\n",
              "  0.008187505210954191,\n",
              "  0.007489334851289537,\n",
              "  0.006888146492465801,\n",
              "  0.006370468481960192,\n",
              "  0.005924700498219819,\n",
              "  0.0055408536063383555,\n",
              "  0.005210326422284517,\n",
              "  0.004925712369887044,\n",
              "  0.004680633711518907,\n",
              "  0.004469598633378618,\n",
              "  0.004287878182882358,\n",
              "  0.004131400300534224,\n",
              "  0.003996658571701342,\n",
              "  0.003880633653569581,\n",
              "  0.003780725616585894,\n",
              "  0.0036946956842691214,\n",
              "  0.003620616065873292,\n",
              "  0.003556826757734992,\n",
              "  0.0035018983452933796,\n",
              "  0.0034545999722366554,\n",
              "  0.003413871759015655,\n",
              "  0.0033788010526683986,\n",
              "  0.003348601975752812,\n",
              "  0.003322597816112473,\n",
              "  0.0033002058628587194],\n",
              " tensor([1.8189], device='cuda:0', requires_grad=True),\n",
              " tensor([1.1878], device='cuda:0', requires_grad=True))"
            ]
          },
          "metadata": {},
          "execution_count": 69
        }
      ]
    }
  ]
}