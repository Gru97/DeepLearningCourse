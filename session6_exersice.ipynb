{
  "cells": [
    {
      "cell_type": "markdown",
      "metadata": {
        "id": "view-in-github",
        "colab_type": "text"
      },
      "source": [
        "<a href=\"https://colab.research.google.com/github/Gru97/DeepLearningCourse/blob/main/session6_exersice.ipynb\" target=\"_parent\"><img src=\"https://colab.research.google.com/assets/colab-badge.svg\" alt=\"Open In Colab\"/></a>"
      ]
    },
    {
      "cell_type": "code",
      "execution_count": null,
      "metadata": {
        "id": "S_DzWEggTKMi"
      },
      "outputs": [],
      "source": [
        "!pip install -q kaggle"
      ]
    },
    {
      "cell_type": "code",
      "execution_count": 1,
      "metadata": {
        "id": "iZ8M_rRsN8XV"
      },
      "outputs": [],
      "source": [
        "import torch\n",
        "import torchvision\n",
        "import torch.nn as nn\n",
        "import torch.nn.functional as F\n",
        "import torchvision\n",
        "from torchvision import models, datasets\n",
        "import matplotlib.pyplot as plt\n",
        "from PIL import Image\n",
        "from torch import optim\n",
        "device = 'cuda' if torch.cuda.is_available() else 'cpu'\n",
        "import cv2, glob, numpy as np, pandas as pd\n",
        "from glob import glob\n",
        "import torchvision.transforms as transforms\n",
        "from torch.utils.data import DataLoader, Dataset\n",
        "import kagglehub\n",
        "import os"
      ]
    },
    {
      "cell_type": "code",
      "execution_count": null,
      "metadata": {
        "id": "qhbSf4VtPWKs"
      },
      "outputs": [],
      "source": [
        "model= models.vgg16(pretrained=True).to(device)"
      ]
    },
    {
      "cell_type": "code",
      "execution_count": 4,
      "metadata": {
        "colab": {
          "base_uri": "https://localhost:8080/"
        },
        "id": "VkqLLVX6P3bZ",
        "outputId": "bfe7bf6a-2538-4699-c4bb-81c5a68df67b"
      },
      "outputs": [
        {
          "output_type": "stream",
          "name": "stdout",
          "text": [
            "Model saved to vgg16_model.pth\n"
          ]
        }
      ],
      "source": [
        "model_path=\"vgg16_model.pth\"\n",
        "torch.save(model.state_dict(), model_path)\n",
        "print(f\"Model saved to {model_path}\")"
      ]
    },
    {
      "cell_type": "code",
      "execution_count": null,
      "metadata": {
        "id": "rk8ndrWaQIde"
      },
      "outputs": [],
      "source": [
        "model= models.vgg16(pretrained=False).to(device)\n",
        "model.load_state_dict(torch.load(model_path, map_location=device))"
      ]
    },
    {
      "cell_type": "code",
      "execution_count": null,
      "metadata": {
        "id": "WdxsILiOQ3cD"
      },
      "outputs": [],
      "source": [
        "model.state_dict()\n",
        "model"
      ]
    },
    {
      "cell_type": "code",
      "execution_count": 6,
      "metadata": {
        "colab": {
          "base_uri": "https://localhost:8080/",
          "height": 90
        },
        "id": "VBhIIvDXUGZI",
        "outputId": "6e59b06c-8563-42d3-8c4f-92633dc3cd3c"
      },
      "outputs": [
        {
          "output_type": "display_data",
          "data": {
            "text/plain": [
              "<IPython.core.display.HTML object>"
            ],
            "text/html": [
              "\n",
              "     <input type=\"file\" id=\"files-904958ee-0864-4dc1-96c6-989b588dea3f\" name=\"files[]\" multiple disabled\n",
              "        style=\"border:none\" />\n",
              "     <output id=\"result-904958ee-0864-4dc1-96c6-989b588dea3f\">\n",
              "      Upload widget is only available when the cell has been executed in the\n",
              "      current browser session. Please rerun this cell to enable.\n",
              "      </output>\n",
              "      <script>// Copyright 2017 Google LLC\n",
              "//\n",
              "// Licensed under the Apache License, Version 2.0 (the \"License\");\n",
              "// you may not use this file except in compliance with the License.\n",
              "// You may obtain a copy of the License at\n",
              "//\n",
              "//      http://www.apache.org/licenses/LICENSE-2.0\n",
              "//\n",
              "// Unless required by applicable law or agreed to in writing, software\n",
              "// distributed under the License is distributed on an \"AS IS\" BASIS,\n",
              "// WITHOUT WARRANTIES OR CONDITIONS OF ANY KIND, either express or implied.\n",
              "// See the License for the specific language governing permissions and\n",
              "// limitations under the License.\n",
              "\n",
              "/**\n",
              " * @fileoverview Helpers for google.colab Python module.\n",
              " */\n",
              "(function(scope) {\n",
              "function span(text, styleAttributes = {}) {\n",
              "  const element = document.createElement('span');\n",
              "  element.textContent = text;\n",
              "  for (const key of Object.keys(styleAttributes)) {\n",
              "    element.style[key] = styleAttributes[key];\n",
              "  }\n",
              "  return element;\n",
              "}\n",
              "\n",
              "// Max number of bytes which will be uploaded at a time.\n",
              "const MAX_PAYLOAD_SIZE = 100 * 1024;\n",
              "\n",
              "function _uploadFiles(inputId, outputId) {\n",
              "  const steps = uploadFilesStep(inputId, outputId);\n",
              "  const outputElement = document.getElementById(outputId);\n",
              "  // Cache steps on the outputElement to make it available for the next call\n",
              "  // to uploadFilesContinue from Python.\n",
              "  outputElement.steps = steps;\n",
              "\n",
              "  return _uploadFilesContinue(outputId);\n",
              "}\n",
              "\n",
              "// This is roughly an async generator (not supported in the browser yet),\n",
              "// where there are multiple asynchronous steps and the Python side is going\n",
              "// to poll for completion of each step.\n",
              "// This uses a Promise to block the python side on completion of each step,\n",
              "// then passes the result of the previous step as the input to the next step.\n",
              "function _uploadFilesContinue(outputId) {\n",
              "  const outputElement = document.getElementById(outputId);\n",
              "  const steps = outputElement.steps;\n",
              "\n",
              "  const next = steps.next(outputElement.lastPromiseValue);\n",
              "  return Promise.resolve(next.value.promise).then((value) => {\n",
              "    // Cache the last promise value to make it available to the next\n",
              "    // step of the generator.\n",
              "    outputElement.lastPromiseValue = value;\n",
              "    return next.value.response;\n",
              "  });\n",
              "}\n",
              "\n",
              "/**\n",
              " * Generator function which is called between each async step of the upload\n",
              " * process.\n",
              " * @param {string} inputId Element ID of the input file picker element.\n",
              " * @param {string} outputId Element ID of the output display.\n",
              " * @return {!Iterable<!Object>} Iterable of next steps.\n",
              " */\n",
              "function* uploadFilesStep(inputId, outputId) {\n",
              "  const inputElement = document.getElementById(inputId);\n",
              "  inputElement.disabled = false;\n",
              "\n",
              "  const outputElement = document.getElementById(outputId);\n",
              "  outputElement.innerHTML = '';\n",
              "\n",
              "  const pickedPromise = new Promise((resolve) => {\n",
              "    inputElement.addEventListener('change', (e) => {\n",
              "      resolve(e.target.files);\n",
              "    });\n",
              "  });\n",
              "\n",
              "  const cancel = document.createElement('button');\n",
              "  inputElement.parentElement.appendChild(cancel);\n",
              "  cancel.textContent = 'Cancel upload';\n",
              "  const cancelPromise = new Promise((resolve) => {\n",
              "    cancel.onclick = () => {\n",
              "      resolve(null);\n",
              "    };\n",
              "  });\n",
              "\n",
              "  // Wait for the user to pick the files.\n",
              "  const files = yield {\n",
              "    promise: Promise.race([pickedPromise, cancelPromise]),\n",
              "    response: {\n",
              "      action: 'starting',\n",
              "    }\n",
              "  };\n",
              "\n",
              "  cancel.remove();\n",
              "\n",
              "  // Disable the input element since further picks are not allowed.\n",
              "  inputElement.disabled = true;\n",
              "\n",
              "  if (!files) {\n",
              "    return {\n",
              "      response: {\n",
              "        action: 'complete',\n",
              "      }\n",
              "    };\n",
              "  }\n",
              "\n",
              "  for (const file of files) {\n",
              "    const li = document.createElement('li');\n",
              "    li.append(span(file.name, {fontWeight: 'bold'}));\n",
              "    li.append(span(\n",
              "        `(${file.type || 'n/a'}) - ${file.size} bytes, ` +\n",
              "        `last modified: ${\n",
              "            file.lastModifiedDate ? file.lastModifiedDate.toLocaleDateString() :\n",
              "                                    'n/a'} - `));\n",
              "    const percent = span('0% done');\n",
              "    li.appendChild(percent);\n",
              "\n",
              "    outputElement.appendChild(li);\n",
              "\n",
              "    const fileDataPromise = new Promise((resolve) => {\n",
              "      const reader = new FileReader();\n",
              "      reader.onload = (e) => {\n",
              "        resolve(e.target.result);\n",
              "      };\n",
              "      reader.readAsArrayBuffer(file);\n",
              "    });\n",
              "    // Wait for the data to be ready.\n",
              "    let fileData = yield {\n",
              "      promise: fileDataPromise,\n",
              "      response: {\n",
              "        action: 'continue',\n",
              "      }\n",
              "    };\n",
              "\n",
              "    // Use a chunked sending to avoid message size limits. See b/62115660.\n",
              "    let position = 0;\n",
              "    do {\n",
              "      const length = Math.min(fileData.byteLength - position, MAX_PAYLOAD_SIZE);\n",
              "      const chunk = new Uint8Array(fileData, position, length);\n",
              "      position += length;\n",
              "\n",
              "      const base64 = btoa(String.fromCharCode.apply(null, chunk));\n",
              "      yield {\n",
              "        response: {\n",
              "          action: 'append',\n",
              "          file: file.name,\n",
              "          data: base64,\n",
              "        },\n",
              "      };\n",
              "\n",
              "      let percentDone = fileData.byteLength === 0 ?\n",
              "          100 :\n",
              "          Math.round((position / fileData.byteLength) * 100);\n",
              "      percent.textContent = `${percentDone}% done`;\n",
              "\n",
              "    } while (position < fileData.byteLength);\n",
              "  }\n",
              "\n",
              "  // All done.\n",
              "  yield {\n",
              "    response: {\n",
              "      action: 'complete',\n",
              "    }\n",
              "  };\n",
              "}\n",
              "\n",
              "scope.google = scope.google || {};\n",
              "scope.google.colab = scope.google.colab || {};\n",
              "scope.google.colab._files = {\n",
              "  _uploadFiles,\n",
              "  _uploadFilesContinue,\n",
              "};\n",
              "})(self);\n",
              "</script> "
            ]
          },
          "metadata": {}
        },
        {
          "output_type": "stream",
          "name": "stdout",
          "text": [
            "Saving kaggle.json to kaggle.json\n",
            "User uploaded file \"kaggle.json\" with length 72 bytes\n"
          ]
        }
      ],
      "source": [
        "from google.colab import files\n",
        "\n",
        "uploaded = files.upload()\n",
        "\n",
        "for fn in uploaded.keys():\n",
        "  print('User uploaded file \"{name}\" with length {length} bytes'.format(\n",
        "      name=fn, length=len(uploaded[fn])))\n",
        "\n",
        "# Then move kaggle.json into the folder where the API expects to find it.\n",
        "!mkdir -p ~/.kaggle/ && mv kaggle.json ~/.kaggle/ && chmod 600 ~/.kaggle/kaggle.json"
      ]
    },
    {
      "cell_type": "code",
      "source": [
        "!kaggle competitions download -c histopathologic-cancer-detection"
      ],
      "metadata": {
        "colab": {
          "base_uri": "https://localhost:8080/"
        },
        "id": "sIouenVU86Z4",
        "outputId": "71877b61-6e63-4b72-ddec-9078f059a396"
      },
      "execution_count": 7,
      "outputs": [
        {
          "output_type": "stream",
          "name": "stdout",
          "text": [
            "Downloading histopathologic-cancer-detection.zip to /content\n",
            "100% 6.31G/6.31G [03:30<00:00, 37.1MB/s]\n",
            "100% 6.31G/6.31G [03:30<00:00, 32.2MB/s]\n"
          ]
        }
      ]
    },
    {
      "cell_type": "code",
      "source": [
        "!unzip histopathologic-cancer-detection.zip"
      ],
      "metadata": {
        "id": "keaDO9ESH0CQ"
      },
      "execution_count": null,
      "outputs": []
    },
    {
      "cell_type": "code",
      "source": [
        "import pandas as pd\n",
        "\n",
        "# Load train.csv\n",
        "train_data_csv = pd.read_csv('/content/train_labels.csv')\n",
        "print(train_data_csv.head())"
      ],
      "metadata": {
        "id": "hCiyeJROGu9F",
        "colab": {
          "base_uri": "https://localhost:8080/"
        },
        "outputId": "2b90f469-fadf-4f13-eb81-ba3dc625807d"
      },
      "execution_count": 9,
      "outputs": [
        {
          "output_type": "stream",
          "name": "stdout",
          "text": [
            "                                         id  label\n",
            "0  f38a6374c348f90b587e046aac6079959adf3835      0\n",
            "1  c18f2d887b7ae4f6742ee445113fa1aef383ed77      1\n",
            "2  755db6279dae599ebb4d39a9123cce439965282d      0\n",
            "3  bc3f0c64fb968ff4a8bd33af6971ecae77c75e08      0\n",
            "4  068aba587a4950175d04c680d38943fd488d6a9d      0\n"
          ]
        }
      ]
    },
    {
      "cell_type": "code",
      "source": [
        "train_data_csv['id'][0]"
      ],
      "metadata": {
        "colab": {
          "base_uri": "https://localhost:8080/",
          "height": 35
        },
        "id": "hzNsrvPvZKw3",
        "outputId": "b7c8b6cb-d52a-43e2-b812-efd48fdcc7fd"
      },
      "execution_count": 10,
      "outputs": [
        {
          "output_type": "execute_result",
          "data": {
            "text/plain": [
              "'f38a6374c348f90b587e046aac6079959adf3835'"
            ],
            "application/vnd.google.colaboratory.intrinsic+json": {
              "type": "string"
            }
          },
          "metadata": {},
          "execution_count": 10
        }
      ]
    },
    {
      "cell_type": "code",
      "execution_count": 12,
      "metadata": {
        "colab": {
          "base_uri": "https://localhost:8080/",
          "height": 485
        },
        "id": "6B0pMotuZBXt",
        "outputId": "a14f5b1a-2ada-4d4f-f344-fcd0185c980a"
      },
      "outputs": [
        {
          "output_type": "stream",
          "name": "stdout",
          "text": [
            "/content/train/f38a6374c348f90b587e046aac6079959adf3835.tif\n",
            "(96, 96, 3)\n"
          ]
        },
        {
          "output_type": "execute_result",
          "data": {
            "text/plain": [
              "<matplotlib.image.AxesImage at 0x7fc608092f20>"
            ]
          },
          "metadata": {},
          "execution_count": 12
        },
        {
          "output_type": "display_data",
          "data": {
            "text/plain": [
              "<Figure size 640x480 with 1 Axes>"
            ],
            "image/png": "[encoded data removed]"
          },
          "metadata": {}
        }
      ],
      "source": [
        "fileId= train_data_csv['id'][0]\n",
        "target = train_data_csv['label'][0]\n",
        "f=glob('/content/train/'+ fileId+'.tif')[0]\n",
        "print(f)\n",
        "im = cv2.imread(f)\n",
        "print(im.shape)\n",
        "plt.imshow(im)"
      ]
    },
    {
      "cell_type": "code",
      "execution_count": null,
      "metadata": {
        "colab": {
          "base_uri": "https://localhost:8080/",
          "height": 450
        },
        "id": "kIXI28frcL5T",
        "outputId": "fe80dd70-11f9-4eac-ad25-63cce4b546ab"
      },
      "outputs": [
        {
          "output_type": "execute_result",
          "data": {
            "text/plain": [
              "<matplotlib.image.AxesImage at 0x7bfb1ea70730>"
            ]
          },
          "metadata": {},
          "execution_count": 12
        },
        {
          "output_type": "display_data",
          "data": {
            "text/plain": [
              "<Figure size 640x480 with 1 Axes>"
            ],
            "image/png": "[encoded data removed]"
          },
          "metadata": {}
        }
      ],
      "source": [
        "plt.imshow(im[:,:,::-1])"
      ]
    },
    {
      "cell_type": "code",
      "execution_count": 26,
      "metadata": {
        "id": "yxBtSR8Uc0HG"
      },
      "outputs": [],
      "source": [
        "data_dir='/content/train/'\n",
        "\n",
        "class CancerDetectionDataset(Dataset):\n",
        "    def __init__(self, folder, df):\n",
        "      self.df= df.reset_index(drop=True)\n",
        "      #negative_df = df[df['label'] == 1].head(1000)\n",
        "      #positive_df = df[df['label'] == 0].head(1000)\n",
        "      self.folder = folder\n",
        "      self.normalize= transforms.Normalize(mean=[0.485,0.456,0.406], std=[0.229,0.224,0.225])\n",
        "    def __len__(self):\n",
        "      return len(self.df)\n",
        "    def __getitem__(self, ix):\n",
        "      fileId= self.df['id'][ix]\n",
        "      target = self.df['label'][ix]\n",
        "      f=glob(self.folder + fileId+'.tif')[0]\n",
        "      im = cv2.imread(f)[:,:,::-1]\n",
        "      # im = cv2.resize(im, (224,224))\n",
        "      im=torch.tensor(im/255)\n",
        "      im = im.permute(2,0,1) #NCHW\n",
        "      im=self.normalize(im)\n",
        "      return im.float().to(device), torch.tensor([target]).float().to(device)"
      ]
    },
    {
      "cell_type": "code",
      "execution_count": null,
      "metadata": {
        "id": "cytPrWH6QevI"
      },
      "outputs": [],
      "source": [
        "data= CancerDetectionDataset(data_dir, train_data_csv)\n",
        "data[1]"
      ]
    },
    {
      "cell_type": "code",
      "source": [
        "def get_model():\n",
        "  model=models.vgg16(pretrained=False).to(device)\n",
        "  model.load_state_dict(torch.load(model_path, map_location=device))\n",
        "  for param in model.parameters():\n",
        "    param.requires_grad = False\n",
        "  model.avgpool= nn.AdaptiveAvgPool2d(output_size = (1,1)) #1*1*512 # why didn't we go with inherent 7*7\n",
        "  model.classifier= nn.Sequential(nn.Flatten(),\n",
        "                                  nn.Linear(512,128),\n",
        "                                  nn.ReLU(),\n",
        "                                  nn.Dropout(0.2),\n",
        "                                  nn.Linear(128,1),\n",
        "                                  nn.Sigmoid())\n",
        "\n",
        "  loss_fn= nn.BCELoss()\n",
        "  optimizer= torch.optim.Adam(model.parameters(), lr = 1e-3)\n",
        "  return model.to(device), loss_fn, optimizer"
      ],
      "metadata": {
        "id": "d_LRdcAztIpb"
      },
      "execution_count": 28,
      "outputs": []
    },
    {
      "cell_type": "code",
      "source": [
        "from sklearn.model_selection import train_test_split\n",
        "train_df, test_df = train_test_split(train_data_csv, test_size=0.2, random_state=42)\n",
        "\n",
        "train_dataset= CancerDetectionDataset(data_dir, train_df)\n",
        "test_dataset= CancerDetectionDataset(data_dir, test_df)\n",
        "train_dataloader= DataLoader(train_dataset, batch_size=32, shuffle=True)\n",
        "test_dataloader= DataLoader(test_dataset, batch_size=32, shuffle=False)"
      ],
      "metadata": {
        "id": "naklixolvoFy"
      },
      "execution_count": 32,
      "outputs": []
    },
    {
      "cell_type": "code",
      "source": [
        "model, loss_fn, optimizer= get_model()\n",
        "def accuracy(prediction, targets):\n",
        "  is_correct = (prediction > 0.5) == targets\n",
        "  return is_correct.cpu().numpy().sum()/targets.size(0)\n",
        "\n",
        "def train(model, dataloader, optimize, criterion):\n",
        "  model.train()\n",
        "  train_loss=0\n",
        "  train_acc=0\n",
        "  for inputs, targets in dataloader:\n",
        "    optimizer.zero_grad()\n",
        "    outputs= model(inputs)\n",
        "    loss= criterion(outputs, targets)\n",
        "    loss.backward()\n",
        "    optimizer.step()\n",
        "    train_loss+= loss.item()\n",
        "    train_acc+= accuracy(outputs, targets)\n",
        "  return train_loss/len(dataloader), train_acc/len(dataloader)\n",
        "\n",
        "def validate(model, dataloader, criterion):\n",
        "  model.eval()\n",
        "  val_loss=0\n",
        "  val_acc=0\n",
        "  with torch.no_grad():\n",
        "    for inputs, targets in dataloader:\n",
        "      outputs= model(inputs)\n",
        "      loss= criterion(outputs, targets)\n",
        "      val_loss+= loss.item()\n",
        "      val_acc+= accuracy(outputs, targets)\n",
        "  return val_loss/ len(dataloader), val_acc / len(dataloader)"
      ],
      "metadata": {
        "id": "4zo53_0bx3Ch"
      },
      "execution_count": null,
      "outputs": []
    },
    {
      "cell_type": "code",
      "source": [
        "n_epochs= 10\n",
        "train_losses=[]\n",
        "train_accs=[]\n",
        "val_losses=[]\n",
        "val_accs=[]\n",
        "for epoch in range(n_epochs):\n",
        "  print(f\"Epoch {epoch+1}/{n_epochs}\")\n",
        "\n",
        "  train_loss, train_acc= train(model, train_dataloader, optimizer, loss_fn)\n",
        "  val_loss, val_acc= validate(model, test_dataloader, loss_fn)\n",
        "  train_losses.append(train_loss)\n",
        "  train_accs.append(train_acc)\n",
        "  val_losses.append(val_loss)\n",
        "  val_accs.append(val_acc)\n",
        "\n",
        "  print(f\"Train Loss: {train_loss:.4f} Train Acc: {train_acc:.4f}\")\n",
        "  print(f\"Val Loss: {val_loss:.4f} Val Acc: {val_acc:.4f}\")"
      ],
      "metadata": {
        "colab": {
          "base_uri": "https://localhost:8080/"
        },
        "id": "0MEhcz_ic2fS",
        "outputId": "a6775565-f4bb-4442-f3b7-35e363ce7cea"
      },
      "execution_count": null,
      "outputs": [
        {
          "metadata": {
            "tags": null
          },
          "name": "stdout",
          "output_type": "stream",
          "text": [
            "Epoch 1/10\n",
            "Train Loss: 0.6599 Train Acc: 0.6075\n",
            "Val Loss: 0.6689 Val Acc: 0.5889\n",
            "Epoch 2/10\n",
            "Train Loss: 0.6577 Train Acc: 0.6075\n",
            "Val Loss: 0.6639 Val Acc: 0.5889\n",
            "Epoch 3/10\n",
            "Train Loss: 0.6546 Train Acc: 0.6075\n",
            "Val Loss: 0.6606 Val Acc: 0.5889\n",
            "Epoch 4/10\n",
            "Train Loss: 0.6490 Train Acc: 0.6075\n",
            "Val Loss: 0.6600 Val Acc: 0.5889\n",
            "Epoch 5/10\n",
            "Train Loss: 0.6443 Train Acc: 0.6075\n",
            "Val Loss: 0.6499 Val Acc: 0.5889\n",
            "Epoch 6/10\n",
            "Train Loss: 0.6385 Train Acc: 0.6075\n",
            "Val Loss: 0.6454 Val Acc: 0.5889\n",
            "Epoch 7/10\n",
            "Train Loss: 0.6332 Train Acc: 0.6088\n",
            "Val Loss: 0.6367 Val Acc: 0.6106\n",
            "Epoch 8/10\n",
            "Train Loss: 0.6220 Train Acc: 0.6144\n",
            "Val Loss: 0.6273 Val Acc: 0.5889\n",
            "Epoch 9/10\n",
            "Train Loss: 0.6111 Train Acc: 0.6300\n",
            "Val Loss: 0.6174 Val Acc: 0.6755\n",
            "Epoch 10/10\n"
          ]
        }
      ]
    },
    {
      "cell_type": "markdown",
      "metadata": {
        "id": "OOko-KmQPIXh"
      },
      "source": []
    }
  ],
  "metadata": {
    "colab": {
      "provenance": [],
      "gpuType": "T4",
      "mount_file_id": "16YSiN6PkSHkfFIxocBfuJ9tWI7bMF8Dd",
      "authorship_tag": "ABX9TyNdOZhWgRPUU7QPKhHQdYx1",
      "include_colab_link": true
    },
    "kernelspec": {
      "display_name": "Python 3",
      "name": "python3"
    },
    "language_info": {
      "name": "python"
    },
    "accelerator": "GPU"
  },
  "nbformat": 4,
  "nbformat_minor": 0
}